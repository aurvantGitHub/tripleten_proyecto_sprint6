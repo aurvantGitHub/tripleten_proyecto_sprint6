{
 "cells": [
  {
   "cell_type": "markdown",
   "metadata": {
    "tags": [
     "e5c1f0c2-db9f-43a0-99b9-4875c52427e8"
    ]
   },
   "source": [
    "# Proyecto Integrado 1\n",
    "\n",
    "Se cuenta con una base de datos de ventas de videojuegos hasta el anho 2016. El objetivo es identificar patrones dentro de los datos que determinen el exito de un juego con miras a pronosticar las ventas y amar una campanha para el 2017."
   ]
  },
  {
   "cell_type": "markdown",
   "metadata": {},
   "source": [
    "## Paso 1: Descripcion general del dataset\n",
    "\n",
    "Cargar el data set y describirlo"
   ]
  },
  {
   "cell_type": "markdown",
   "metadata": {},
   "source": [
    "### Vista general a los datos"
   ]
  },
  {
   "cell_type": "code",
   "execution_count": 1,
   "metadata": {},
   "outputs": [],
   "source": [
    "# Importar librerias\n",
    "from scipy import stats as st\n",
    "import matplotlib.pyplot as plt\n",
    "import pandas as pd\n"
   ]
  },
  {
   "cell_type": "code",
   "execution_count": 2,
   "metadata": {},
   "outputs": [
    {
     "data": {
      "text/html": [
       "<div>\n",
       "<style scoped>\n",
       "    .dataframe tbody tr th:only-of-type {\n",
       "        vertical-align: middle;\n",
       "    }\n",
       "\n",
       "    .dataframe tbody tr th {\n",
       "        vertical-align: top;\n",
       "    }\n",
       "\n",
       "    .dataframe thead th {\n",
       "        text-align: right;\n",
       "    }\n",
       "</style>\n",
       "<table border=\"1\" class=\"dataframe\">\n",
       "  <thead>\n",
       "    <tr style=\"text-align: right;\">\n",
       "      <th></th>\n",
       "      <th>Name</th>\n",
       "      <th>Platform</th>\n",
       "      <th>Year_of_Release</th>\n",
       "      <th>Genre</th>\n",
       "      <th>NA_sales</th>\n",
       "      <th>EU_sales</th>\n",
       "      <th>JP_sales</th>\n",
       "      <th>Other_sales</th>\n",
       "      <th>Critic_Score</th>\n",
       "      <th>User_Score</th>\n",
       "      <th>Rating</th>\n",
       "    </tr>\n",
       "  </thead>\n",
       "  <tbody>\n",
       "    <tr>\n",
       "      <th>0</th>\n",
       "      <td>Wii Sports</td>\n",
       "      <td>Wii</td>\n",
       "      <td>2006.0</td>\n",
       "      <td>Sports</td>\n",
       "      <td>41.36</td>\n",
       "      <td>28.96</td>\n",
       "      <td>3.77</td>\n",
       "      <td>8.45</td>\n",
       "      <td>76.0</td>\n",
       "      <td>8</td>\n",
       "      <td>E</td>\n",
       "    </tr>\n",
       "    <tr>\n",
       "      <th>1</th>\n",
       "      <td>Super Mario Bros.</td>\n",
       "      <td>NES</td>\n",
       "      <td>1985.0</td>\n",
       "      <td>Platform</td>\n",
       "      <td>29.08</td>\n",
       "      <td>3.58</td>\n",
       "      <td>6.81</td>\n",
       "      <td>0.77</td>\n",
       "      <td>NaN</td>\n",
       "      <td>NaN</td>\n",
       "      <td>NaN</td>\n",
       "    </tr>\n",
       "    <tr>\n",
       "      <th>2</th>\n",
       "      <td>Mario Kart Wii</td>\n",
       "      <td>Wii</td>\n",
       "      <td>2008.0</td>\n",
       "      <td>Racing</td>\n",
       "      <td>15.68</td>\n",
       "      <td>12.76</td>\n",
       "      <td>3.79</td>\n",
       "      <td>3.29</td>\n",
       "      <td>82.0</td>\n",
       "      <td>8.3</td>\n",
       "      <td>E</td>\n",
       "    </tr>\n",
       "    <tr>\n",
       "      <th>3</th>\n",
       "      <td>Wii Sports Resort</td>\n",
       "      <td>Wii</td>\n",
       "      <td>2009.0</td>\n",
       "      <td>Sports</td>\n",
       "      <td>15.61</td>\n",
       "      <td>10.93</td>\n",
       "      <td>3.28</td>\n",
       "      <td>2.95</td>\n",
       "      <td>80.0</td>\n",
       "      <td>8</td>\n",
       "      <td>E</td>\n",
       "    </tr>\n",
       "    <tr>\n",
       "      <th>4</th>\n",
       "      <td>Pokemon Red/Pokemon Blue</td>\n",
       "      <td>GB</td>\n",
       "      <td>1996.0</td>\n",
       "      <td>Role-Playing</td>\n",
       "      <td>11.27</td>\n",
       "      <td>8.89</td>\n",
       "      <td>10.22</td>\n",
       "      <td>1.00</td>\n",
       "      <td>NaN</td>\n",
       "      <td>NaN</td>\n",
       "      <td>NaN</td>\n",
       "    </tr>\n",
       "  </tbody>\n",
       "</table>\n",
       "</div>"
      ],
      "text/plain": [
       "                       Name Platform  Year_of_Release         Genre  NA_sales  \\\n",
       "0                Wii Sports      Wii           2006.0        Sports     41.36   \n",
       "1         Super Mario Bros.      NES           1985.0      Platform     29.08   \n",
       "2            Mario Kart Wii      Wii           2008.0        Racing     15.68   \n",
       "3         Wii Sports Resort      Wii           2009.0        Sports     15.61   \n",
       "4  Pokemon Red/Pokemon Blue       GB           1996.0  Role-Playing     11.27   \n",
       "\n",
       "   EU_sales  JP_sales  Other_sales  Critic_Score User_Score Rating  \n",
       "0     28.96      3.77         8.45          76.0          8      E  \n",
       "1      3.58      6.81         0.77           NaN        NaN    NaN  \n",
       "2     12.76      3.79         3.29          82.0        8.3      E  \n",
       "3     10.93      3.28         2.95          80.0          8      E  \n",
       "4      8.89     10.22         1.00           NaN        NaN    NaN  "
      ]
     },
     "execution_count": 2,
     "metadata": {},
     "output_type": "execute_result"
    }
   ],
   "source": [
    "# Cargar los datos\n",
    "games = pd.read_csv('/datasets/games.csv')\n",
    "games.head()"
   ]
  },
  {
   "cell_type": "markdown",
   "metadata": {},
   "source": [
    "### Descripcion general de los datos"
   ]
  },
  {
   "cell_type": "code",
   "execution_count": 3,
   "metadata": {},
   "outputs": [
    {
     "name": "stdout",
     "output_type": "stream",
     "text": [
      "<class 'pandas.core.frame.DataFrame'>\n",
      "RangeIndex: 16715 entries, 0 to 16714\n",
      "Data columns (total 11 columns):\n",
      " #   Column           Non-Null Count  Dtype  \n",
      "---  ------           --------------  -----  \n",
      " 0   Name             16713 non-null  object \n",
      " 1   Platform         16715 non-null  object \n",
      " 2   Year_of_Release  16446 non-null  float64\n",
      " 3   Genre            16713 non-null  object \n",
      " 4   NA_sales         16715 non-null  float64\n",
      " 5   EU_sales         16715 non-null  float64\n",
      " 6   JP_sales         16715 non-null  float64\n",
      " 7   Other_sales      16715 non-null  float64\n",
      " 8   Critic_Score     8137 non-null   float64\n",
      " 9   User_Score       10014 non-null  object \n",
      " 10  Rating           9949 non-null   object \n",
      "dtypes: float64(6), object(5)\n",
      "memory usage: 1.4+ MB\n"
     ]
    },
    {
     "data": {
      "text/html": [
       "<div>\n",
       "<style scoped>\n",
       "    .dataframe tbody tr th:only-of-type {\n",
       "        vertical-align: middle;\n",
       "    }\n",
       "\n",
       "    .dataframe tbody tr th {\n",
       "        vertical-align: top;\n",
       "    }\n",
       "\n",
       "    .dataframe thead th {\n",
       "        text-align: right;\n",
       "    }\n",
       "</style>\n",
       "<table border=\"1\" class=\"dataframe\">\n",
       "  <thead>\n",
       "    <tr style=\"text-align: right;\">\n",
       "      <th></th>\n",
       "      <th>Year_of_Release</th>\n",
       "      <th>NA_sales</th>\n",
       "      <th>EU_sales</th>\n",
       "      <th>JP_sales</th>\n",
       "      <th>Other_sales</th>\n",
       "      <th>Critic_Score</th>\n",
       "    </tr>\n",
       "  </thead>\n",
       "  <tbody>\n",
       "    <tr>\n",
       "      <th>count</th>\n",
       "      <td>16446.000000</td>\n",
       "      <td>16715.000000</td>\n",
       "      <td>16715.000000</td>\n",
       "      <td>16715.000000</td>\n",
       "      <td>16715.000000</td>\n",
       "      <td>8137.000000</td>\n",
       "    </tr>\n",
       "    <tr>\n",
       "      <th>mean</th>\n",
       "      <td>2006.484616</td>\n",
       "      <td>0.263377</td>\n",
       "      <td>0.145060</td>\n",
       "      <td>0.077617</td>\n",
       "      <td>0.047342</td>\n",
       "      <td>68.967679</td>\n",
       "    </tr>\n",
       "    <tr>\n",
       "      <th>std</th>\n",
       "      <td>5.877050</td>\n",
       "      <td>0.813604</td>\n",
       "      <td>0.503339</td>\n",
       "      <td>0.308853</td>\n",
       "      <td>0.186731</td>\n",
       "      <td>13.938165</td>\n",
       "    </tr>\n",
       "    <tr>\n",
       "      <th>min</th>\n",
       "      <td>1980.000000</td>\n",
       "      <td>0.000000</td>\n",
       "      <td>0.000000</td>\n",
       "      <td>0.000000</td>\n",
       "      <td>0.000000</td>\n",
       "      <td>13.000000</td>\n",
       "    </tr>\n",
       "    <tr>\n",
       "      <th>25%</th>\n",
       "      <td>2003.000000</td>\n",
       "      <td>0.000000</td>\n",
       "      <td>0.000000</td>\n",
       "      <td>0.000000</td>\n",
       "      <td>0.000000</td>\n",
       "      <td>60.000000</td>\n",
       "    </tr>\n",
       "    <tr>\n",
       "      <th>50%</th>\n",
       "      <td>2007.000000</td>\n",
       "      <td>0.080000</td>\n",
       "      <td>0.020000</td>\n",
       "      <td>0.000000</td>\n",
       "      <td>0.010000</td>\n",
       "      <td>71.000000</td>\n",
       "    </tr>\n",
       "    <tr>\n",
       "      <th>75%</th>\n",
       "      <td>2010.000000</td>\n",
       "      <td>0.240000</td>\n",
       "      <td>0.110000</td>\n",
       "      <td>0.040000</td>\n",
       "      <td>0.030000</td>\n",
       "      <td>79.000000</td>\n",
       "    </tr>\n",
       "    <tr>\n",
       "      <th>max</th>\n",
       "      <td>2016.000000</td>\n",
       "      <td>41.360000</td>\n",
       "      <td>28.960000</td>\n",
       "      <td>10.220000</td>\n",
       "      <td>10.570000</td>\n",
       "      <td>98.000000</td>\n",
       "    </tr>\n",
       "  </tbody>\n",
       "</table>\n",
       "</div>"
      ],
      "text/plain": [
       "       Year_of_Release      NA_sales      EU_sales      JP_sales  \\\n",
       "count     16446.000000  16715.000000  16715.000000  16715.000000   \n",
       "mean       2006.484616      0.263377      0.145060      0.077617   \n",
       "std           5.877050      0.813604      0.503339      0.308853   \n",
       "min        1980.000000      0.000000      0.000000      0.000000   \n",
       "25%        2003.000000      0.000000      0.000000      0.000000   \n",
       "50%        2007.000000      0.080000      0.020000      0.000000   \n",
       "75%        2010.000000      0.240000      0.110000      0.040000   \n",
       "max        2016.000000     41.360000     28.960000     10.220000   \n",
       "\n",
       "        Other_sales  Critic_Score  \n",
       "count  16715.000000   8137.000000  \n",
       "mean       0.047342     68.967679  \n",
       "std        0.186731     13.938165  \n",
       "min        0.000000     13.000000  \n",
       "25%        0.000000     60.000000  \n",
       "50%        0.010000     71.000000  \n",
       "75%        0.030000     79.000000  \n",
       "max       10.570000     98.000000  "
      ]
     },
     "execution_count": 3,
     "metadata": {},
     "output_type": "execute_result"
    }
   ],
   "source": [
    "# Descripcion general de los datos\n",
    "games.info()\n",
    "\n",
    "games.describe()"
   ]
  },
  {
   "cell_type": "markdown",
   "metadata": {},
   "source": [
    "### Conclusiones Paso 1\n",
    "Luego de un vistazo general a los datos, podemos observar que trabajamos con dos tipos de columnas:\n",
    " - las que describen al videojuego: nombre, plataforma, etc (cualitativas)\n",
    " - las de metricas: ventas y score (cuantitativas)\n",
    " \n",
    "Algunas columnas no poseen el tipo adecuado de dato y ademas contamos con varios valores nulos (principalmente en las columnas de score y rating)\n",
    "\n",
    "En los estadisticos podemos apreciar una gran cantidad de 0s en las columnas de ventas, lo cual podria traer consecuencias en el analisis mas adelante."
   ]
  },
  {
   "cell_type": "markdown",
   "metadata": {},
   "source": [
    "## Paso 2: Preparar el dataset\n",
    "\n",
    "- Dar formato al dataset\n",
    "- Tratar los valores ausentes\n",
    "- Cambiar los tipos de datos\n",
    "- Agregar columnas importantes"
   ]
  },
  {
   "cell_type": "markdown",
   "metadata": {},
   "source": [
    "### Cambios de formato"
   ]
  },
  {
   "cell_type": "code",
   "execution_count": 4,
   "metadata": {},
   "outputs": [
    {
     "data": {
      "text/html": [
       "<div>\n",
       "<style scoped>\n",
       "    .dataframe tbody tr th:only-of-type {\n",
       "        vertical-align: middle;\n",
       "    }\n",
       "\n",
       "    .dataframe tbody tr th {\n",
       "        vertical-align: top;\n",
       "    }\n",
       "\n",
       "    .dataframe thead th {\n",
       "        text-align: right;\n",
       "    }\n",
       "</style>\n",
       "<table border=\"1\" class=\"dataframe\">\n",
       "  <thead>\n",
       "    <tr style=\"text-align: right;\">\n",
       "      <th></th>\n",
       "      <th>name</th>\n",
       "      <th>platform</th>\n",
       "      <th>year_of_release</th>\n",
       "      <th>genre</th>\n",
       "      <th>na_sales</th>\n",
       "      <th>eu_sales</th>\n",
       "      <th>jp_sales</th>\n",
       "      <th>other_sales</th>\n",
       "      <th>critic_score</th>\n",
       "      <th>user_score</th>\n",
       "      <th>rating</th>\n",
       "    </tr>\n",
       "  </thead>\n",
       "  <tbody>\n",
       "    <tr>\n",
       "      <th>0</th>\n",
       "      <td>Wii Sports</td>\n",
       "      <td>Wii</td>\n",
       "      <td>2006.0</td>\n",
       "      <td>Sports</td>\n",
       "      <td>41.36</td>\n",
       "      <td>28.96</td>\n",
       "      <td>3.77</td>\n",
       "      <td>8.45</td>\n",
       "      <td>76.0</td>\n",
       "      <td>8</td>\n",
       "      <td>E</td>\n",
       "    </tr>\n",
       "    <tr>\n",
       "      <th>1</th>\n",
       "      <td>Super Mario Bros.</td>\n",
       "      <td>NES</td>\n",
       "      <td>1985.0</td>\n",
       "      <td>Platform</td>\n",
       "      <td>29.08</td>\n",
       "      <td>3.58</td>\n",
       "      <td>6.81</td>\n",
       "      <td>0.77</td>\n",
       "      <td>NaN</td>\n",
       "      <td>NaN</td>\n",
       "      <td>NaN</td>\n",
       "    </tr>\n",
       "    <tr>\n",
       "      <th>2</th>\n",
       "      <td>Mario Kart Wii</td>\n",
       "      <td>Wii</td>\n",
       "      <td>2008.0</td>\n",
       "      <td>Racing</td>\n",
       "      <td>15.68</td>\n",
       "      <td>12.76</td>\n",
       "      <td>3.79</td>\n",
       "      <td>3.29</td>\n",
       "      <td>82.0</td>\n",
       "      <td>8.3</td>\n",
       "      <td>E</td>\n",
       "    </tr>\n",
       "    <tr>\n",
       "      <th>3</th>\n",
       "      <td>Wii Sports Resort</td>\n",
       "      <td>Wii</td>\n",
       "      <td>2009.0</td>\n",
       "      <td>Sports</td>\n",
       "      <td>15.61</td>\n",
       "      <td>10.93</td>\n",
       "      <td>3.28</td>\n",
       "      <td>2.95</td>\n",
       "      <td>80.0</td>\n",
       "      <td>8</td>\n",
       "      <td>E</td>\n",
       "    </tr>\n",
       "    <tr>\n",
       "      <th>4</th>\n",
       "      <td>Pokemon Red/Pokemon Blue</td>\n",
       "      <td>GB</td>\n",
       "      <td>1996.0</td>\n",
       "      <td>Role-Playing</td>\n",
       "      <td>11.27</td>\n",
       "      <td>8.89</td>\n",
       "      <td>10.22</td>\n",
       "      <td>1.00</td>\n",
       "      <td>NaN</td>\n",
       "      <td>NaN</td>\n",
       "      <td>NaN</td>\n",
       "    </tr>\n",
       "  </tbody>\n",
       "</table>\n",
       "</div>"
      ],
      "text/plain": [
       "                       name platform  year_of_release         genre  na_sales  \\\n",
       "0                Wii Sports      Wii           2006.0        Sports     41.36   \n",
       "1         Super Mario Bros.      NES           1985.0      Platform     29.08   \n",
       "2            Mario Kart Wii      Wii           2008.0        Racing     15.68   \n",
       "3         Wii Sports Resort      Wii           2009.0        Sports     15.61   \n",
       "4  Pokemon Red/Pokemon Blue       GB           1996.0  Role-Playing     11.27   \n",
       "\n",
       "   eu_sales  jp_sales  other_sales  critic_score user_score rating  \n",
       "0     28.96      3.77         8.45          76.0          8      E  \n",
       "1      3.58      6.81         0.77           NaN        NaN    NaN  \n",
       "2     12.76      3.79         3.29          82.0        8.3      E  \n",
       "3     10.93      3.28         2.95          80.0          8      E  \n",
       "4      8.89     10.22         1.00           NaN        NaN    NaN  "
      ]
     },
     "execution_count": 4,
     "metadata": {},
     "output_type": "execute_result"
    }
   ],
   "source": [
    "# Cambiar las columnas a lower case\n",
    "games.columns = games.columns.str.lower()\n",
    "games.head()"
   ]
  },
  {
   "cell_type": "markdown",
   "metadata": {},
   "source": [
    "### Cambios de tipo de dato"
   ]
  },
  {
   "cell_type": "code",
   "execution_count": 5,
   "metadata": {},
   "outputs": [
    {
     "name": "stdout",
     "output_type": "stream",
     "text": [
      "<class 'pandas.core.frame.DataFrame'>\n",
      "RangeIndex: 16715 entries, 0 to 16714\n",
      "Data columns (total 11 columns):\n",
      " #   Column           Non-Null Count  Dtype  \n",
      "---  ------           --------------  -----  \n",
      " 0   name             16713 non-null  object \n",
      " 1   platform         16715 non-null  object \n",
      " 2   year_of_release  16715 non-null  int64  \n",
      " 3   genre            16713 non-null  object \n",
      " 4   na_sales         16715 non-null  float64\n",
      " 5   eu_sales         16715 non-null  float64\n",
      " 6   jp_sales         16715 non-null  float64\n",
      " 7   other_sales      16715 non-null  float64\n",
      " 8   critic_score     8137 non-null   float64\n",
      " 9   user_score       10014 non-null  float64\n",
      " 10  rating           9949 non-null   object \n",
      "dtypes: float64(6), int64(1), object(4)\n",
      "memory usage: 1.4+ MB\n"
     ]
    }
   ],
   "source": [
    "# Cambiar los tipo de dato\n",
    "games['year_of_release'] = games['year_of_release'].fillna(0).astype(int) #year_of_release es un numero entero, ausentes rellenados con 0\n",
    "\n",
    "games['user_score'] = pd.to_numeric(games['user_score'].replace('tbd', '11')) #user_score es numerico\n",
    "\n",
    "games.info()"
   ]
  },
  {
   "cell_type": "markdown",
   "metadata": {},
   "source": [
    "### Tratamiento de datos ausentes"
   ]
  },
  {
   "cell_type": "code",
   "execution_count": 6,
   "metadata": {},
   "outputs": [
    {
     "name": "stdout",
     "output_type": "stream",
     "text": [
      "<class 'pandas.core.frame.DataFrame'>\n",
      "RangeIndex: 16713 entries, 0 to 16712\n",
      "Data columns (total 11 columns):\n",
      " #   Column           Non-Null Count  Dtype  \n",
      "---  ------           --------------  -----  \n",
      " 0   name             16713 non-null  object \n",
      " 1   platform         16713 non-null  object \n",
      " 2   year_of_release  16713 non-null  int64  \n",
      " 3   genre            16713 non-null  object \n",
      " 4   na_sales         16713 non-null  float64\n",
      " 5   eu_sales         16713 non-null  float64\n",
      " 6   jp_sales         16713 non-null  float64\n",
      " 7   other_sales      16713 non-null  float64\n",
      " 8   critic_score     8137 non-null   float64\n",
      " 9   user_score       10014 non-null  float64\n",
      " 10  rating           9949 non-null   object \n",
      "dtypes: float64(6), int64(1), object(4)\n",
      "memory usage: 1.4+ MB\n"
     ]
    }
   ],
   "source": [
    "# Tratar valores ausentes - Name\n",
    "games.dropna(subset=['name'], inplace=True) #solo tenemos 2 valores ausentes en esta columna, podemos desecharlos\n",
    "games.reset_index(drop=True, inplace=True)\n",
    "\n",
    "games.info()\n"
   ]
  },
  {
   "cell_type": "code",
   "execution_count": 7,
   "metadata": {},
   "outputs": [
    {
     "name": "stdout",
     "output_type": "stream",
     "text": [
      "<class 'pandas.core.frame.DataFrame'>\n",
      "RangeIndex: 16713 entries, 0 to 16712\n",
      "Data columns (total 11 columns):\n",
      " #   Column           Non-Null Count  Dtype  \n",
      "---  ------           --------------  -----  \n",
      " 0   name             16713 non-null  object \n",
      " 1   platform         16713 non-null  object \n",
      " 2   year_of_release  16713 non-null  int64  \n",
      " 3   genre            16713 non-null  object \n",
      " 4   na_sales         16713 non-null  float64\n",
      " 5   eu_sales         16713 non-null  float64\n",
      " 6   jp_sales         16713 non-null  float64\n",
      " 7   other_sales      16713 non-null  float64\n",
      " 8   critic_score     8137 non-null   float64\n",
      " 9   user_score       10014 non-null  float64\n",
      " 10  rating           16713 non-null  object \n",
      "dtypes: float64(6), int64(1), object(4)\n",
      "memory usage: 1.4+ MB\n"
     ]
    },
    {
     "data": {
      "image/png": "[encoded data removed]",
      "text/plain": [
       "<Figure size 432x288 with 1 Axes>"
      ]
     },
     "metadata": {
      "needs_background": "light"
     },
     "output_type": "display_data"
    }
   ],
   "source": [
    "# Tratar valores ausentes - Rating\n",
    "games['rating'] = games['rating'].fillna(' ') #rating es una categoria, podemos rellenar los ausentes con una linea vacia\n",
    "\n",
    "games[games['rating'] == ' ']['na_sales'].plot(kind='hist', bins=100)\n",
    "plt.xlim(0, 3)\n",
    "plt.xlabel('na_sales')\n",
    "plt.title('Cantidad de juegos sin rating por nivel de ventas')\n",
    "\n",
    "games.info()"
   ]
  },
  {
   "cell_type": "code",
   "execution_count": 8,
   "metadata": {},
   "outputs": [
    {
     "data": {
      "image/png": "[encoded data removed]",
      "text/plain": [
       "<Figure size 432x288 with 1 Axes>"
      ]
     },
     "metadata": {
      "needs_background": "light"
     },
     "output_type": "display_data"
    },
    {
     "name": "stdout",
     "output_type": "stream",
     "text": [
      "count    8137.000000\n",
      "mean       68.967679\n",
      "std        13.938165\n",
      "min        13.000000\n",
      "25%        60.000000\n",
      "50%        71.000000\n",
      "75%        79.000000\n",
      "max        98.000000\n",
      "Name: critic_score, dtype: float64\n",
      "\n",
      "<class 'pandas.core.frame.DataFrame'>\n",
      "RangeIndex: 16713 entries, 0 to 16712\n",
      "Data columns (total 12 columns):\n",
      " #   Column               Non-Null Count  Dtype  \n",
      "---  ------               --------------  -----  \n",
      " 0   name                 16713 non-null  object \n",
      " 1   platform             16713 non-null  object \n",
      " 2   year_of_release      16713 non-null  int64  \n",
      " 3   genre                16713 non-null  object \n",
      " 4   na_sales             16713 non-null  float64\n",
      " 5   eu_sales             16713 non-null  float64\n",
      " 6   jp_sales             16713 non-null  float64\n",
      " 7   other_sales          16713 non-null  float64\n",
      " 8   critic_score         8137 non-null   float64\n",
      " 9   user_score           10014 non-null  float64\n",
      " 10  rating               16713 non-null  object \n",
      " 11  critic_score_filled  16713 non-null  float64\n",
      "dtypes: float64(7), int64(1), object(4)\n",
      "memory usage: 1.5+ MB\n"
     ]
    }
   ],
   "source": [
    "#Tratar valores ausentes - Critic Score\n",
    "games[(games['critic_score'].isna())]['na_sales'].plot(kind='hist', bins=100) # observamos si los juegos con pocas ventas son los que carecen de critica\n",
    "plt.xlim(0, 3)\n",
    "plt.xlabel('na_sales')\n",
    "plt.show()\n",
    "\n",
    "print(games['critic_score'].describe()) # imprimimos estadisticos y determinamos el mejor valor para reemplazar valores ausentes\n",
    "games['critic_score_filled'] = games['critic_score'].fillna(games['critic_score'].mean()) # media y mediana se parecen, optamos por la media\n",
    "\n",
    "print()\n",
    "games.info()"
   ]
  },
  {
   "cell_type": "code",
   "execution_count": 9,
   "metadata": {},
   "outputs": [
    {
     "data": {
      "image/png": "[encoded data removed]",
      "text/plain": [
       "<Figure size 432x288 with 1 Axes>"
      ]
     },
     "metadata": {
      "needs_background": "light"
     },
     "output_type": "display_data"
    },
    {
     "name": "stdout",
     "output_type": "stream",
     "text": [
      "count    10014.000000\n",
      "mean         8.063022\n",
      "std          2.111969\n",
      "min          0.000000\n",
      "25%          6.800000\n",
      "50%          8.000000\n",
      "75%          9.200000\n",
      "max         11.000000\n",
      "Name: user_score, dtype: float64\n",
      "\n",
      "<class 'pandas.core.frame.DataFrame'>\n",
      "RangeIndex: 16713 entries, 0 to 16712\n",
      "Data columns (total 13 columns):\n",
      " #   Column               Non-Null Count  Dtype  \n",
      "---  ------               --------------  -----  \n",
      " 0   name                 16713 non-null  object \n",
      " 1   platform             16713 non-null  object \n",
      " 2   year_of_release      16713 non-null  int64  \n",
      " 3   genre                16713 non-null  object \n",
      " 4   na_sales             16713 non-null  float64\n",
      " 5   eu_sales             16713 non-null  float64\n",
      " 6   jp_sales             16713 non-null  float64\n",
      " 7   other_sales          16713 non-null  float64\n",
      " 8   critic_score         8137 non-null   float64\n",
      " 9   user_score           10014 non-null  float64\n",
      " 10  rating               16713 non-null  object \n",
      " 11  critic_score_filled  16713 non-null  float64\n",
      " 12  user_score_filled    16713 non-null  float64\n",
      "dtypes: float64(8), int64(1), object(4)\n",
      "memory usage: 1.7+ MB\n"
     ]
    }
   ],
   "source": [
    "#Tratar valores ausentes - User Score\n",
    "games[(games['user_score'].isna())]['na_sales'].plot(kind='hist', bins=100) # observamos si los juegos con pocas ventas son los que carecen de critica\n",
    "plt.xlim(0, 3)\n",
    "plt.xlabel('na_sales')\n",
    "plt.show()\n",
    "\n",
    "print(games['user_score'].describe()) # imprimimos estadisticos y determinamos el mejor valor para reemplazar valores ausentes\n",
    "games['user_score_filled'] = games['user_score'].fillna(games['user_score'].mean()) # media y mediana casi iguales, optamos por la media\n",
    "\n",
    "print()\n",
    "games.info()"
   ]
  },
  {
   "cell_type": "code",
   "execution_count": 10,
   "metadata": {},
   "outputs": [
    {
     "data": {
      "text/html": [
       "<div>\n",
       "<style scoped>\n",
       "    .dataframe tbody tr th:only-of-type {\n",
       "        vertical-align: middle;\n",
       "    }\n",
       "\n",
       "    .dataframe tbody tr th {\n",
       "        vertical-align: top;\n",
       "    }\n",
       "\n",
       "    .dataframe thead th {\n",
       "        text-align: right;\n",
       "    }\n",
       "</style>\n",
       "<table border=\"1\" class=\"dataframe\">\n",
       "  <thead>\n",
       "    <tr style=\"text-align: right;\">\n",
       "      <th></th>\n",
       "      <th>name</th>\n",
       "      <th>platform</th>\n",
       "      <th>year_of_release</th>\n",
       "      <th>genre</th>\n",
       "      <th>na_sales</th>\n",
       "      <th>eu_sales</th>\n",
       "      <th>jp_sales</th>\n",
       "      <th>other_sales</th>\n",
       "      <th>critic_score</th>\n",
       "      <th>user_score</th>\n",
       "      <th>rating</th>\n",
       "      <th>critic_score_filled</th>\n",
       "      <th>user_score_filled</th>\n",
       "      <th>total_sales</th>\n",
       "    </tr>\n",
       "  </thead>\n",
       "  <tbody>\n",
       "    <tr>\n",
       "      <th>0</th>\n",
       "      <td>Wii Sports</td>\n",
       "      <td>Wii</td>\n",
       "      <td>2006</td>\n",
       "      <td>Sports</td>\n",
       "      <td>41.36</td>\n",
       "      <td>28.96</td>\n",
       "      <td>3.77</td>\n",
       "      <td>8.45</td>\n",
       "      <td>76.0</td>\n",
       "      <td>8.0</td>\n",
       "      <td>E</td>\n",
       "      <td>76.000000</td>\n",
       "      <td>8.000000</td>\n",
       "      <td>82.54</td>\n",
       "    </tr>\n",
       "    <tr>\n",
       "      <th>1</th>\n",
       "      <td>Super Mario Bros.</td>\n",
       "      <td>NES</td>\n",
       "      <td>1985</td>\n",
       "      <td>Platform</td>\n",
       "      <td>29.08</td>\n",
       "      <td>3.58</td>\n",
       "      <td>6.81</td>\n",
       "      <td>0.77</td>\n",
       "      <td>NaN</td>\n",
       "      <td>NaN</td>\n",
       "      <td></td>\n",
       "      <td>68.967679</td>\n",
       "      <td>8.063022</td>\n",
       "      <td>40.24</td>\n",
       "    </tr>\n",
       "    <tr>\n",
       "      <th>2</th>\n",
       "      <td>Mario Kart Wii</td>\n",
       "      <td>Wii</td>\n",
       "      <td>2008</td>\n",
       "      <td>Racing</td>\n",
       "      <td>15.68</td>\n",
       "      <td>12.76</td>\n",
       "      <td>3.79</td>\n",
       "      <td>3.29</td>\n",
       "      <td>82.0</td>\n",
       "      <td>8.3</td>\n",
       "      <td>E</td>\n",
       "      <td>82.000000</td>\n",
       "      <td>8.300000</td>\n",
       "      <td>35.52</td>\n",
       "    </tr>\n",
       "    <tr>\n",
       "      <th>3</th>\n",
       "      <td>Wii Sports Resort</td>\n",
       "      <td>Wii</td>\n",
       "      <td>2009</td>\n",
       "      <td>Sports</td>\n",
       "      <td>15.61</td>\n",
       "      <td>10.93</td>\n",
       "      <td>3.28</td>\n",
       "      <td>2.95</td>\n",
       "      <td>80.0</td>\n",
       "      <td>8.0</td>\n",
       "      <td>E</td>\n",
       "      <td>80.000000</td>\n",
       "      <td>8.000000</td>\n",
       "      <td>32.77</td>\n",
       "    </tr>\n",
       "    <tr>\n",
       "      <th>4</th>\n",
       "      <td>Pokemon Red/Pokemon Blue</td>\n",
       "      <td>GB</td>\n",
       "      <td>1996</td>\n",
       "      <td>Role-Playing</td>\n",
       "      <td>11.27</td>\n",
       "      <td>8.89</td>\n",
       "      <td>10.22</td>\n",
       "      <td>1.00</td>\n",
       "      <td>NaN</td>\n",
       "      <td>NaN</td>\n",
       "      <td></td>\n",
       "      <td>68.967679</td>\n",
       "      <td>8.063022</td>\n",
       "      <td>31.38</td>\n",
       "    </tr>\n",
       "  </tbody>\n",
       "</table>\n",
       "</div>"
      ],
      "text/plain": [
       "                       name platform  year_of_release         genre  na_sales  \\\n",
       "0                Wii Sports      Wii             2006        Sports     41.36   \n",
       "1         Super Mario Bros.      NES             1985      Platform     29.08   \n",
       "2            Mario Kart Wii      Wii             2008        Racing     15.68   \n",
       "3         Wii Sports Resort      Wii             2009        Sports     15.61   \n",
       "4  Pokemon Red/Pokemon Blue       GB             1996  Role-Playing     11.27   \n",
       "\n",
       "   eu_sales  jp_sales  other_sales  critic_score  user_score rating  \\\n",
       "0     28.96      3.77         8.45          76.0         8.0      E   \n",
       "1      3.58      6.81         0.77           NaN         NaN          \n",
       "2     12.76      3.79         3.29          82.0         8.3      E   \n",
       "3     10.93      3.28         2.95          80.0         8.0      E   \n",
       "4      8.89     10.22         1.00           NaN         NaN          \n",
       "\n",
       "   critic_score_filled  user_score_filled  total_sales  \n",
       "0            76.000000           8.000000        82.54  \n",
       "1            68.967679           8.063022        40.24  \n",
       "2            82.000000           8.300000        35.52  \n",
       "3            80.000000           8.000000        32.77  \n",
       "4            68.967679           8.063022        31.38  "
      ]
     },
     "execution_count": 10,
     "metadata": {},
     "output_type": "execute_result"
    }
   ],
   "source": [
    "# Calcular ventas totales\n",
    "games['total_sales'] = games['na_sales'] + games['eu_sales'] + games['jp_sales'] + games['other_sales']\n",
    "games.head()"
   ]
  },
  {
   "cell_type": "markdown",
   "metadata": {},
   "source": [
    "### Conclusiones Paso 2"
   ]
  },
  {
   "cell_type": "markdown",
   "metadata": {},
   "source": [
    "Se cambiaron los nombres de las columnas a minuscula para cumplir con formatos de estilo adecuados.\n",
    "\n",
    "Se cambiaron los tipos de dato de dos columnas:\n",
    " - year_of_release: era de tipo float, lo cual era innecesario al tratarse de enteros, y se cambio a tipo int. Durante el proceso se rellenaron los datos ausentes con 0, al tratarse de menos del 2% de los datos no hay muchos inconvenientes. \n",
    " - user_score: era un string, lo cual es contraproducente al tratarse de un puntaje, se cambio a tipo float. Durante el proceso se considero los valores TBD como 11 para tenerlos mapeados fuera del rango usual de 0 a 10.\n",
    " \n",
    "Se trataron casos de valores ausentes:\n",
    " - casos sencillos: tratamiento sin mayor analisis\n",
    "     - en la columna name solo existen dos valores ausentes, se opta por descartar las filas al ser una cantidad infima\n",
    "     - en la columna rating se reemplazan los Nan por una cadena con espacio en blanco, no tenemos un valor optimo de remplazo y este valor nos permite distiguir valores reemplazados de originales \n",
    " - casos a analizar: requieren observacion de metricas o distribuciones\n",
    "     - en la columna critic_score se remplazan los valores ausentes por la media y se guardan en una nueva columna\n",
    "     - en la columna user_score se reemplazan los valores ausentes por la media y se guardan en una nueva columna\n",
    "     \n",
    "Los valores ausentes en la columna name puede ser debido a un registro incompleto.\n",
    "\n",
    "En el caso de la columna rating, pudimos observar que los valores ausentes se asocian a juegos que no alcanzaron grandes volumenes de ventas (escogimos analizar ventas en USA). Puede que no haya sido rentable para el estudio someter al juego ante el ESRB.\n",
    "\n",
    "En el caso de las columnas de score, observamos que los valores ausentes tienen una asociacion similar a los de la columna rating: juegos poco populares que no fueron sometidos a critica.\n",
    "\n",
    "Finalmente, se calculan las ventas totales sumando las ventas en todas las regiones. Este dato sera util para la seccion de analisis"
   ]
  },
  {
   "cell_type": "markdown",
   "metadata": {},
   "source": [
    "## Paso 3: Analisis de Datos"
   ]
  },
  {
   "cell_type": "markdown",
   "metadata": {},
   "source": [
    " - Observar la cantidad de juegos lanzados por anho\n",
    " - Observar las ventas totales entre distintas plataformas a lo largo del tiempo\n",
    " - Determinar el periodo de tiempo relevante para el pronostico del 2017\n",
    " - Determinar las plataformas mas rentables\n",
    " - Crear un diagrama de cajas para las ventas globales por plataforma\n",
    " - Correlacionar como las resenhas afectan las ventas de una plataforma\n",
    " - Comparar las ventas de los mismos juegos entre plataformas\n",
    " - Observar la distribucion de ventas por genero"
   ]
  },
  {
   "cell_type": "markdown",
   "metadata": {},
   "source": [
    "### Juegos lanzados por anho"
   ]
  },
  {
   "cell_type": "code",
   "execution_count": 11,
   "metadata": {},
   "outputs": [
    {
     "data": {
      "image/png": "[encoded data removed]",
      "text/plain": [
       "<Figure size 432x288 with 1 Axes>"
      ]
     },
     "metadata": {
      "needs_background": "light"
     },
     "output_type": "display_data"
    }
   ],
   "source": [
    "# Agrupar juegos por anho y contamos la cantidad de juegos lanzados\n",
    "games.groupby(by='year_of_release').count()['name'][1:].plot() #ignoramos los valores ausentes en el indice 0\n",
    "plt.xlabel('Anho')\n",
    "plt.ylabel('Numero de juegos')\n",
    "plt.title('Cantidad de juegos lanzados por anho')\n",
    "plt.show()"
   ]
  },
  {
   "cell_type": "markdown",
   "metadata": {},
   "source": [
    "Podemos apreciar que a partir de los anhos 90 comienza un incremento en la cantidad de juegos lanzados por anho. Este crecimiento de los anhos 90 llega a una meseta antes del boom de los anhos 2000. Este boom llega a un pico de produccion de juegos por el anho 2007, seguida de una caida hasta el anho 2012.\n",
    "\n",
    "De esta informacion, vemos que antes de los 90's la industria era muy diferente y esos datos ya no son relevantes. Dentro de los 2000 hay que considerar que la subida y caida en produccion de juegos es un evento muy particular y podria sesgar las predicciones que querramos hacer a futuro.\n",
    "\n",
    "Es necesario escoger un periodo de tiempo que refleje el estado actual del mercado. Este debe ser lo suficientemente corto para ser relevante y lo suficientemente extenso para no obviar informacion importante.\n",
    "\n",
    "Un analisis mas profundo nos permitira deteriminar con mayor exactitud que anhos utilizar para el analisis."
   ]
  },
  {
   "cell_type": "markdown",
   "metadata": {},
   "source": [
    "### Juegos lanzados por anho por plataforma"
   ]
  },
  {
   "cell_type": "code",
   "execution_count": 12,
   "metadata": {},
   "outputs": [
    {
     "data": {
      "text/plain": [
       "['PS2', 'X360', 'PS3', 'Wii', 'DS', 'PS', 'GBA', 'PS4', 'PSP', 'PC']"
      ]
     },
     "execution_count": 12,
     "metadata": {},
     "output_type": "execute_result"
    },
    {
     "data": {
      "image/png": "[encoded data removed]",
      "text/plain": [
       "<Figure size 432x288 with 1 Axes>"
      ]
     },
     "metadata": {
      "needs_background": "light"
     },
     "output_type": "display_data"
    }
   ],
   "source": [
    "# Escoger las plataformas con mayor cantidad historica de ventas totales\n",
    "games.groupby(by=['platform']).sum()['total_sales'].plot(kind='bar')\n",
    "plt.ylabel('Ventas totales historicamente (mill. USD)')\n",
    "plt.title('Ventas totales por plataforma (1985 - 2016)')\n",
    "\n",
    "top10_platforms_by_total_sales = games.groupby(by=['platform']).sum()['total_sales'].sort_values(ascending=False)[0:10].index.tolist()\n",
    "top10_platforms_by_total_sales"
   ]
  },
  {
   "cell_type": "markdown",
   "metadata": {},
   "source": [
    "Se puede observar que 6 plataformas superan con creces a las demas: DS, PS, PS2, PS3, Wii y X360. Escogemos las 10 con mayor catidad historica de ventas para trabajar."
   ]
  },
  {
   "cell_type": "code",
   "execution_count": 13,
   "metadata": {},
   "outputs": [
    {
     "data": {
      "image/png": "[encoded data removed]",
      "text/plain": [
       "<Figure size 432x288 with 1 Axes>"
      ]
     },
     "metadata": {
      "needs_background": "light"
     },
     "output_type": "display_data"
    }
   ],
   "source": [
    "# Agrupamos juegos por plataforma (top 10) y anho calculamos las ventas totales\n",
    "games[games['platform'].isin(top10_platforms_by_total_sales)].groupby(by=['platform', 'year_of_release']).sum()['total_sales'].unstack(level=0).plot()\n",
    "plt.xlim([1980, 2018])\n",
    "plt.xlabel('Anho')\n",
    "plt.ylabel('Ventas totales (mill. USD)')\n",
    "plt.legend(title='plataforma')\n",
    "plt.title('Historico de ventas totales por plataforma')\n",
    "plt.show()"
   ]
  },
  {
   "cell_type": "code",
   "execution_count": 14,
   "metadata": {},
   "outputs": [
    {
     "data": {
      "text/plain": [
       "['PS2', 'DS', 'PS', 'GBA', 'PSP']"
      ]
     },
     "execution_count": 14,
     "metadata": {},
     "output_type": "execute_result"
    }
   ],
   "source": [
    "# Buscamos las plataformas (top10) que ya no tienen ventas\n",
    "top10_platforms_by_total_sales_current = games[(games['platform'].isin(top10_platforms_by_total_sales)) & (games['year_of_release'] == 2016)]['platform'].unique().tolist()\n",
    "top10_platforms_by_total_sales_not_current = [i for i in top10_platforms_by_total_sales if i not in top10_platforms_by_total_sales_current]\n",
    "top10_platforms_by_total_sales_not_current"
   ]
  },
  {
   "cell_type": "code",
   "execution_count": 15,
   "metadata": {},
   "outputs": [
    {
     "data": {
      "image/png": "[encoded data removed]",
      "text/plain": [
       "<Figure size 432x288 with 1 Axes>"
      ]
     },
     "metadata": {
      "needs_background": "light"
     },
     "output_type": "display_data"
    }
   ],
   "source": [
    "# Agrupamos juegos por plataforma (top 10 sin ventas al 2016) y anho calculamos las ventas totales\n",
    "games[games['platform'].isin(top10_platforms_by_total_sales_not_current)].groupby(by=['platform', 'year_of_release']).sum()['total_sales'].unstack(level=0).plot()\n",
    "plt.xlim([1990, 2018])\n",
    "plt.xlabel('Anho')\n",
    "plt.ylabel('Ventas totales (mill. USD)')\n",
    "plt.legend(title='plataforma')\n",
    "plt.title('Ciclo de vida de plataformas que fueron exitosas')\n",
    "plt.show()"
   ]
  },
  {
   "cell_type": "markdown",
   "metadata": {},
   "source": [
    "Podemos observar que de las 10 plataformas con mayor catidad historica de ventas totales, hay 5 que ya no cuentan con ventas para el anho 2016: PS, GBA, PS2, DS, PSP.\n",
    "\n"
   ]
  },
  {
   "cell_type": "code",
   "execution_count": 16,
   "metadata": {},
   "outputs": [
    {
     "data": {
      "text/plain": [
       "9.4"
      ]
     },
     "execution_count": 16,
     "metadata": {},
     "output_type": "execute_result"
    }
   ],
   "source": [
    "# Calculamos anhos de vida promedio de una plataforma\n",
    "(\n",
    "games[(games['platform'].isin(top10_platforms_by_total_sales_not_current)) & (games['year_of_release'] > 0)]\n",
    "    .groupby(by='platform')['year_of_release'].max() - \n",
    "games[(games['platform'].isin(['PS', 'GBA', 'PS2', 'DS', 'PSP'])) & (games['year_of_release'] > 1990)].\n",
    "    groupby(by='platform')['year_of_release'].min()\n",
    ").mean()"
   ]
  },
  {
   "cell_type": "code",
   "execution_count": 17,
   "metadata": {},
   "outputs": [
    {
     "data": {
      "text/plain": [
       "3.4"
      ]
     },
     "execution_count": 17,
     "metadata": {},
     "output_type": "execute_result"
    }
   ],
   "source": [
    "# Calculamos cuanto toma una plataforma en llegar a su pico\n",
    "(\n",
    "pd.pivot_table(games[games['platform'].isin(top10_platforms_by_total_sales_not_current)], index='platform', columns='year_of_release', values='total_sales', aggfunc='sum').idxmax(axis=1) -\n",
    "games[(games['platform'].isin(['PS', 'GBA', 'PS2', 'DS', 'PSP'])) & (games['year_of_release'] > 1990)].\n",
    "    groupby(by='platform')['year_of_release'].min()\n",
    ").mean()"
   ]
  },
  {
   "cell_type": "code",
   "execution_count": 18,
   "metadata": {},
   "outputs": [
    {
     "data": {
      "text/plain": [
       "6.0"
      ]
     },
     "execution_count": 18,
     "metadata": {},
     "output_type": "execute_result"
    }
   ],
   "source": [
    "# Calculamos cuanto toma una plataforma en su pico en desaparecer\n",
    "(\n",
    "games[(games['platform'].isin(['PS', 'GBA', 'PS2', 'DS', 'PSP'])) & (games['year_of_release'] > 1990)].\n",
    "    groupby(by='platform')['year_of_release'].max() -\n",
    "pd.pivot_table(games[games['platform'].isin(top10_platforms_by_total_sales_not_current)], index='platform', columns='year_of_release', values='total_sales', aggfunc='sum').idxmax(axis=1)\n",
    ").mean()"
   ]
  },
  {
   "cell_type": "markdown",
   "metadata": {},
   "source": [
    "Del grafico de barras podemos apreciar que existen ciertas plataformas con muchas mayores ventas historicamente que otras. Escogimos 10 para un analisis preeliminar, de las cuales 5 ya no poseen ventas. Estas son utiles para analizar el ciclo de vida de una paltaforma exitosa.\n",
    "\n",
    "Del grafico del ciclo de vida de una plataforma exitosa podemos apreciar que este ciclo tiene 3 hitos: la plataforma es introducida al mercado, llega a un apogeo de ventas de juegos y eventualmente desaparece. Segun los datos proporcionados, este ciclo dura poco menos de 9 anhos y medio. De estos 9 anhos y medio, las plataformas toman alderedor de 3 anhos y medio en llegar a su pico y 6 anhos desde su pico hasta desaparecer."
   ]
  },
  {
   "cell_type": "markdown",
   "metadata": {},
   "source": [
    "### Plataformas y margen de tiempo relevantes\n"
   ]
  },
  {
   "cell_type": "code",
   "execution_count": 19,
   "metadata": {},
   "outputs": [
    {
     "data": {
      "text/plain": [
       "array(['PS4', '3DS', 'XOne', 'WiiU', 'PS3', 'PC', 'X360', 'PSV', 'Wii'],\n",
       "      dtype=object)"
      ]
     },
     "execution_count": 19,
     "metadata": {},
     "output_type": "execute_result"
    }
   ],
   "source": [
    "# Determinamos las plataformas relevantes\n",
    "current_platforms = games[games['year_of_release'] == 2016]['platform'].unique() #es relevante si aun vende juegos\n",
    "current_platforms"
   ]
  },
  {
   "cell_type": "code",
   "execution_count": 20,
   "metadata": {},
   "outputs": [
    {
     "data": {
      "image/png": "[encoded data removed]",
      "text/plain": [
       "<Figure size 432x288 with 1 Axes>"
      ]
     },
     "metadata": {
      "needs_background": "light"
     },
     "output_type": "display_data"
    }
   ],
   "source": [
    "# Agrupamos por plataformas (relevante) y por anho y calculamos las ventas totales\n",
    "games[games['platform'].isin(current_platforms)].groupby(by=['platform', 'year_of_release']).sum()['total_sales'].unstack(level=0).plot()\n",
    "plt.xlim([2005, 2017])\n",
    "plt.xlabel('Anho')\n",
    "plt.ylabel('Ventas totales (mill. USD)')\n",
    "plt.legend(title='plataforma')\n",
    "plt.title('Plataformas con ventas al 2016')\n",
    "plt.show()"
   ]
  },
  {
   "cell_type": "markdown",
   "metadata": {},
   "source": [
    "Se puede apreciar que de las plataformas que aun cuentan con ventas al 2016, algunas ya estan por terminar su ciclo. Estas no nos ayudan para determinar un periodo de tiempo relevante para el analisis.\n",
    "\n",
    "Buscamos seleccionar las plataformas que aun puedan generar ventas considerables durante los proximos anhos. Tomar en cuenta el ciclo de vida de estas plataformas aun vigentes es importante para construir un modelo para el 2017."
   ]
  },
  {
   "cell_type": "code",
   "execution_count": 21,
   "metadata": {},
   "outputs": [
    {
     "data": {
      "text/plain": [
       "platform\n",
       "PS4     69.25\n",
       "XOne    26.15\n",
       "3DS     15.14\n",
       "Name: total_sales, dtype: float64"
      ]
     },
     "execution_count": 21,
     "metadata": {},
     "output_type": "execute_result"
    }
   ],
   "source": [
    "# Obtenemos las 3 paltaformas con mayores ventas durante el 2016\n",
    "games[games['year_of_release'] == 2016].groupby(by='platform').sum()['total_sales'].sort_values(ascending=False).head(3)"
   ]
  },
  {
   "cell_type": "markdown",
   "metadata": {},
   "source": [
    "Las 3 plataformas con mayores ventas durante el 2016 fueron: PS4, XOne y 3DS. De estas 3, el 3DS es la que menor cantidad de ventas tiene, asi como la plataforma mas antigua.\n",
    "\n",
    "Para el analisis, seria conveniente tener toda la informacion del cilo de vida de la PS4 y el XOne. Por ello, consideraremos como datos relevantes solo aquellos de juegos lanzadados desde el 2013 en adelante."
   ]
  },
  {
   "cell_type": "markdown",
   "metadata": {},
   "source": [
    "### Trabajar con datos relevantes"
   ]
  },
  {
   "cell_type": "code",
   "execution_count": 22,
   "metadata": {},
   "outputs": [
    {
     "name": "stdout",
     "output_type": "stream",
     "text": [
      "<class 'pandas.core.frame.DataFrame'>\n",
      "RangeIndex: 2233 entries, 0 to 2232\n",
      "Data columns (total 14 columns):\n",
      " #   Column               Non-Null Count  Dtype  \n",
      "---  ------               --------------  -----  \n",
      " 0   name                 2233 non-null   object \n",
      " 1   platform             2233 non-null   object \n",
      " 2   year_of_release      2233 non-null   int64  \n",
      " 3   genre                2233 non-null   object \n",
      " 4   na_sales             2233 non-null   float64\n",
      " 5   eu_sales             2233 non-null   float64\n",
      " 6   jp_sales             2233 non-null   float64\n",
      " 7   other_sales          2233 non-null   float64\n",
      " 8   critic_score         991 non-null    float64\n",
      " 9   user_score           1300 non-null   float64\n",
      " 10  rating               2233 non-null   object \n",
      " 11  critic_score_filled  2233 non-null   float64\n",
      " 12  user_score_filled    2233 non-null   float64\n",
      " 13  total_sales          2233 non-null   float64\n",
      "dtypes: float64(9), int64(1), object(4)\n",
      "memory usage: 244.4+ KB\n"
     ]
    }
   ],
   "source": [
    "# Generamos una nueva df solo con la informacion relevante\n",
    "games_relevant = games[games['year_of_release'] >= 2013]\n",
    "games_relevant.reset_index(drop=True, inplace=True)\n",
    "\n",
    "games_relevant.info()"
   ]
  },
  {
   "cell_type": "markdown",
   "metadata": {},
   "source": [
    "Hemos ignorado todos los datos de videojuegos que fueron lanzados antes del 2013, asi como de videojuegos sin anho de lanzamiento. Esto reduce tambien el numero de plataformas, ya que muchas plataformas no tienen juegos lanzados luego del 2012. \n",
    "\n",
    "Nuestros datos se han reducido a unas 2000 filas de unas 16000, una reduccion de mas del 80%."
   ]
  },
  {
   "cell_type": "markdown",
   "metadata": {},
   "source": [
    "### Plataformas Lideres en ventas"
   ]
  },
  {
   "cell_type": "code",
   "execution_count": 23,
   "metadata": {},
   "outputs": [
    {
     "data": {
      "image/png": "[encoded data removed]",
      "text/plain": [
       "<Figure size 432x288 with 1 Axes>"
      ]
     },
     "metadata": {
      "needs_background": "light"
     },
     "output_type": "display_data"
    }
   ],
   "source": [
    "# Identificar plataformas lideres en ventas\n",
    "games_relevant.groupby(by=['platform']).sum()['total_sales'].plot(kind='bar')\n",
    "plt.ylabel('Ventas totales (mill. USD)')\n",
    "plt.title('Ventas totales por plataforma (2013 - 2016)')\n",
    "plt.show()"
   ]
  },
  {
   "cell_type": "markdown",
   "metadata": {},
   "source": [
    "Se observa que 5 plataformas sobresalen por encima del resto: PS4, PS3, 3DS, XOne y X360. Esto nos da un indicio de plataformas potencialmente rentables. Sin embargo, de estas plataformas, algunas pueden ya no tener ventas al 2016 o estar cerca de culminar su ciclo de vida."
   ]
  },
  {
   "cell_type": "code",
   "execution_count": 24,
   "metadata": {},
   "outputs": [
    {
     "data": {
      "image/png": "[encoded data removed]",
      "text/plain": [
       "<Figure size 432x288 with 1 Axes>"
      ]
     },
     "metadata": {
      "needs_background": "light"
     },
     "output_type": "display_data"
    }
   ],
   "source": [
    "# Agrupamos los datos del periodo relevante por anho y por plataforma y calculamos ventas totales, excluimos plataformas sin ventas al 2016\n",
    "games_relevant[games_relevant['platform'].isin(current_platforms)].groupby(by=['platform', 'year_of_release']).sum()['total_sales'].unstack(level=0).plot()\n",
    "plt.xlim(2012.75, 2016.25)\n",
    "plt.xticks([2013, 2014, 2015, 2016])\n",
    "plt.xlabel('Anho')\n",
    "plt.ylabel('Ventas totales (mill. USD)')\n",
    "plt.title('Plataformas con ventas al 2016')\n",
    "plt.show()"
   ]
  },
  {
   "cell_type": "markdown",
   "metadata": {},
   "source": [
    "Podemos ver que todas las plataformas presentan una caida en ventas. Esto puede ser a consecuencia de la caida en cantidad de juegos lanzados a partir del anho 2010.\n",
    "\n",
    "Para esquivar este inconveniente, puede ser mas conveniente analizar el total de ventas por cada juego. Asi podemos observar si las ventas por cada juego crecen, en lugar de si crecen las ventas totales.\n",
    "\n",
    "De las plataformas lideres en este periodo, la PS3 y el X360 estan en los ultimos anhos de su ciclo de vida y no seria muy rentable invertir en ellas."
   ]
  },
  {
   "cell_type": "code",
   "execution_count": 25,
   "metadata": {},
   "outputs": [
    {
     "data": {
      "image/png": "[encoded data removed]",
      "text/plain": [
       "<Figure size 432x288 with 1 Axes>"
      ]
     },
     "metadata": {
      "needs_background": "light"
     },
     "output_type": "display_data"
    }
   ],
   "source": [
    "# Identificar plataformas lideres en ventas por juego, excluimos plataformas sin ventas al 2016\n",
    "games_relevant[games_relevant['platform'].isin(current_platforms)].groupby(by=['platform']).mean()['total_sales'].plot(kind='bar')\n",
    "plt.ylabel('Ventas promedio por juego (mill. USD)')\n",
    "plt.title('Ventas promedio por plataforma (2013 - 2016)')\n",
    "plt.show()"
   ]
  },
  {
   "cell_type": "markdown",
   "metadata": {},
   "source": [
    "Vemos que si consideramos las ventas por juego, el panorama es un poco distinto. Las plataformas lideres anteriores se mantienen , mas toman relevancia otros competidores:  Wii y WiiU. De todas maneras, aun debemos considerar que algunas de estas plataformas lideres en este periodo se encuentran a finales de su ciclo de vida: PS3, X360.\n",
    "\n",
    "Las plataformas sin ventas al 2016 ya fueron excluidas del analisis."
   ]
  },
  {
   "cell_type": "code",
   "execution_count": 26,
   "metadata": {},
   "outputs": [
    {
     "data": {
      "image/png": "[encoded data removed]",
      "text/plain": [
       "<Figure size 432x288 with 1 Axes>"
      ]
     },
     "metadata": {
      "needs_background": "light"
     },
     "output_type": "display_data"
    }
   ],
   "source": [
    "# Agrupamos los datos del periodo relevante por anho y por plataforma y calculamos ventas por juego\n",
    "games_relevant[games_relevant['platform'].isin(current_platforms)].groupby(by=['platform', 'year_of_release']).mean()['total_sales'].unstack(level=0).plot()\n",
    "plt.xlim(2012.75, 2016.25)\n",
    "plt.xticks([2013, 2014, 2015, 2016])\n",
    "plt.xlabel('Anho')\n",
    "plt.ylabel('Ventas promedio por juego (mill. USD)')\n",
    "plt.title('Plataformas con ventas al 2016')\n",
    "plt.show()"
   ]
  },
  {
   "cell_type": "markdown",
   "metadata": {},
   "source": [
    "Un analisis a traves del tiempo revela que incluso tomando las ventas por juego, vemos que las plataromas siguen sufriendo una caida en este periodo.\n",
    "\n",
    "Tomando en consideracion ambas graficas, las plataformas con mayor potencial de rentabilidad serian: PS4, XOne y 3DS. La PS4 siendo la mas rentable de todas las plataformas y el XOne en segundo lugar. La 3DS aun cuenta con unos anhos mas en su cilco de vida, de acorde al grafico de ventas totales, y sus ventas promedio por videojuego aun son competitivas con las del XOne. La WiiU, a pesar de tener ventas promedio por videojuego algo competitivas, lamentablemente nunca conto con ventas totales prometedoras."
   ]
  },
  {
   "cell_type": "markdown",
   "metadata": {},
   "source": [
    "### Diagrama de cajas por plataforma"
   ]
  },
  {
   "cell_type": "code",
   "execution_count": 27,
   "metadata": {},
   "outputs": [
    {
     "data": {
      "image/png": "[encoded data removed]",
      "text/plain": [
       "<Figure size 432x288 with 1 Axes>"
      ]
     },
     "metadata": {
      "needs_background": "light"
     },
     "output_type": "display_data"
    }
   ],
   "source": [
    "# Tomamos los datos del periodo relevante, excluimos plataformas que no tienen ventas al 2016 y trazamos los diagramas de ventas totales\n",
    "games_relevant[games_relevant['platform'].isin(current_platforms)].boxplot(column='total_sales', by='platform')\n",
    "plt.yscale('log') #escala logaritmica para mejor visualizacion\n",
    "plt.yticks(ticks=[0.01, 0.03, 0.1, 0.3, 1, 3, 10, 30], labels=[0.01, 0.03, 0.1, 0.3, 1, 3, 10, 30])\n",
    "plt.ylim(0.005, 30)\n",
    "plt.ylabel('Ventas totales (mill. USD)')\n",
    "plt.title('Distribucion de ventas totales por plataforma')\n",
    "plt.suptitle('')\n",
    "plt.show()"
   ]
  },
  {
   "cell_type": "markdown",
   "metadata": {},
   "source": [
    "Observando las distribuciones de las ventas totales por plataforma se puede apreciar que todas ellas (salvo PSV) presentan la mayor parte de sus datos agrupados en el rango de 0.03 y 1 millones de dolares y medianas entre los 0.1 y 0.3 millones de dolares. Sin embargo, por diagramas anteriores sabemos que las plataformas difieren mucho en cuanto a ventas totales.\n",
    "\n",
    "Esto es facilmente explicable observando los datos atipicos. La escala logaritmica nos permite apreciar que las plataformas mas exitsas poseen una gran cantidad de datos atipicos con ventas superiores al millon de dolares. Estos juegos son los que influencian en su mayor parte el exito de una plataforma, en terminos de ventas totales.\n",
    "\n",
    "Si no tomamos estos datos atipicos en consideracion, es probable que los diagramas de cajas sean mas parecidos."
   ]
  },
  {
   "cell_type": "code",
   "execution_count": 28,
   "metadata": {},
   "outputs": [
    {
     "data": {
      "image/png": "[encoded data removed]",
      "text/plain": [
       "<Figure size 432x288 with 1 Axes>"
      ]
     },
     "metadata": {
      "needs_background": "light"
     },
     "output_type": "display_data"
    }
   ],
   "source": [
    "# Analizamos las ventas promedio de cada plataforma, excluimos plataformas sin ventas al 2016\n",
    "games_relevant[games_relevant['platform'].isin(current_platforms)].groupby(by=['platform']).mean()['total_sales'].plot(kind='bar')\n",
    "plt.ylabel('Ventas promedio por juego (mill. USD)')\n",
    "plt.title('Ventas promedio por plataforma (2013 - 2016)')\n",
    "plt.show()"
   ]
  },
  {
   "cell_type": "markdown",
   "metadata": {},
   "source": [
    "El grafico de barras de ventas promedio por plataforma hace hincapie en lo anteriormente mencionado: las plataformas mas exitosas cuentan con una gran cantidad de datos atipicos con ventas por encima del millon de dolares. Estos juegos altamente exitosos impulsan las ventas totales (y promedio) de esas plataformas.\n",
    "\n",
    "Las plataformas con mayores ventas promedio son tambien aquellas cuyos datos atipicos (todos) superan el millon de dolares: PS3, PS4, Wii, WiiU, X360, XOne."
   ]
  },
  {
   "cell_type": "markdown",
   "metadata": {},
   "source": [
    "### Correlacion entre resenhas y ventas"
   ]
  },
  {
   "cell_type": "code",
   "execution_count": 29,
   "metadata": {},
   "outputs": [
    {
     "data": {
      "image/png": "[encoded data removed]",
      "text/plain": [
       "<Figure size 432x288 with 1 Axes>"
      ]
     },
     "metadata": {
      "needs_background": "light"
     },
     "output_type": "display_data"
    },
    {
     "name": "stdout",
     "output_type": "stream",
     "text": [
      "Correlacion:  0.40656790206178123\n"
     ]
    }
   ],
   "source": [
    "# Escogemos la plataforma PS4, analizamos la resenha de la critica, excluimos juegos sin resenha\n",
    "games_relevant[(games_relevant['critic_score'].notna()) & (games_relevant['platform'] == 'PS4')].plot(kind='scatter', x='critic_score', y='total_sales')\n",
    "plt.xlabel('Puntaje de la critica')\n",
    "plt.ylabel('Ventas totales (mill. USD)')\n",
    "plt.title('Ventas totales (PS4) vs Puntaje de la Critica')\n",
    "plt.show()\n",
    "\n",
    "print('Correlacion: ', \n",
    "games_relevant[(games_relevant['critic_score'].notna()) & (games_relevant['platform'] == 'PS4')][['critic_score', 'total_sales']].corr().iloc[0,1]\n",
    ")"
   ]
  },
  {
   "cell_type": "markdown",
   "metadata": {},
   "source": [
    "En este grafico preeliminar, pareciera que no existe mucha correlacion entre el puntaje de la critica y las ventas de los videojuegos (R = 0.41). Sin embargo, sabemos que esta plataforma cuenta con juegos altamente exitosos que no necesariamente van a seguir los patrones del resto. Es conveniente hacer un analisis de los juegos que no alcanzan estas cifras y compararlos con aquellos que si."
   ]
  },
  {
   "cell_type": "code",
   "execution_count": 30,
   "metadata": {},
   "outputs": [
    {
     "name": "stdout",
     "output_type": "stream",
     "text": [
      "Los datos atipicos tienen ventas superiores a 2.6075 millones de dolares\n"
     ]
    }
   ],
   "source": [
    "# Calculamos el limite para datos atipicos\n",
    "IQR = (\n",
    "    games_relevant[(games_relevant['critic_score'].notna()) & (games_relevant['platform'] == 'PS4')]['total_sales']\n",
    "    .quantile(0.75) - \n",
    "    games_relevant[(games_relevant['critic_score'].notna()) & (games_relevant['platform'] == 'PS4')]['total_sales']\n",
    "    .quantile(0.25)\n",
    ")\n",
    "outlier_threshold = (\n",
    "    games_relevant[(games_relevant['critic_score'].notna()) & (games_relevant['platform'] == 'PS4')]['total_sales']\n",
    "    .quantile(0.75)\n",
    ") + 1.5 * IQR\n",
    "print(f'Los datos atipicos tienen ventas superiores a {outlier_threshold} millones de dolares')"
   ]
  },
  {
   "cell_type": "code",
   "execution_count": 31,
   "metadata": {},
   "outputs": [
    {
     "data": {
      "image/png": "[encoded data removed]",
      "text/plain": [
       "<Figure size 432x288 with 1 Axes>"
      ]
     },
     "metadata": {
      "needs_background": "light"
     },
     "output_type": "display_data"
    },
    {
     "name": "stdout",
     "output_type": "stream",
     "text": [
      "Correlacion de juegos exitosos:  0.35991117303084297\n"
     ]
    }
   ],
   "source": [
    "# Analizamos el puntaje de la critica de los juegos con mayor cantidad de ventas, excluimos juegos sin resenha\n",
    "(\n",
    "    games_relevant[(games_relevant['critic_score'].notna()) & \n",
    "               (games_relevant['platform'] == 'PS4') & \n",
    "               (games_relevant['total_sales'] >= outlier_threshold)]\n",
    "    .plot(kind='scatter', x='critic_score', y='total_sales')\n",
    ")\n",
    "plt.xlabel('Puntaje de la critica')\n",
    "plt.ylabel('Ventas totales (mill. USD)')\n",
    "plt.title('Ventas totales (PS4) vs Puntaje de la Critica - Juegos Exitosos')\n",
    "plt.show()\n",
    "\n",
    "print('Correlacion de juegos exitosos: ', \n",
    "games_relevant[(games_relevant['critic_score'].notna()) & (games_relevant['platform'] == 'PS4') & (games_relevant['total_sales'] >= outlier_threshold)][['critic_score', 'total_sales']]\n",
    "      .corr().iloc[0,1]\n",
    ")"
   ]
  },
  {
   "cell_type": "code",
   "execution_count": 32,
   "metadata": {},
   "outputs": [
    {
     "data": {
      "image/png": "[encoded data removed]",
      "text/plain": [
       "<Figure size 432x288 with 1 Axes>"
      ]
     },
     "metadata": {
      "needs_background": "light"
     },
     "output_type": "display_data"
    },
    {
     "name": "stdout",
     "output_type": "stream",
     "text": [
      "Correlacion de juegos promedio:  0.3328974165769362\n"
     ]
    }
   ],
   "source": [
    "# Analizamos el puntaje de la critica de los demas juegos, excluimos juegos sin resenha\n",
    "(\n",
    "    games_relevant[(games_relevant['critic_score'].notna()) & \n",
    "               (games_relevant['platform'] == 'PS4') & \n",
    "               (games_relevant['total_sales'] < outlier_threshold)]\n",
    "    .plot(kind='scatter', x='critic_score', y='total_sales')\n",
    ")\n",
    "plt.xlabel('Puntaje de la critica')\n",
    "plt.ylabel('Ventas totales (mill. USD)')\n",
    "plt.title('Ventas totales (PS4) vs Puntaje de la Critica - Juegos Promedio')\n",
    "plt.show()\n",
    "\n",
    "print('Correlacion de juegos promedio: ', \n",
    "games_relevant[(games_relevant['critic_score'].notna()) & (games_relevant['platform'] == 'PS4') & (games_relevant['total_sales'] < outlier_threshold)][['critic_score', 'total_sales']]\n",
    "      .corr().iloc[0,1]\n",
    ")"
   ]
  },
  {
   "cell_type": "markdown",
   "metadata": {},
   "source": [
    "Luego de un analisis mas a fondo, podemos ver que la resenha de la critica no se correlaciona mucho con las ventas (R < 0.4), independiente de si nos referimos a un juego altamente exitoso (ventas superiores a 2.61 millones de dolares) o al resto de juegos."
   ]
  },
  {
   "cell_type": "code",
   "execution_count": 33,
   "metadata": {},
   "outputs": [
    {
     "data": {
      "image/png": "[encoded data removed]",
      "text/plain": [
       "<Figure size 432x288 with 1 Axes>"
      ]
     },
     "metadata": {
      "needs_background": "light"
     },
     "output_type": "display_data"
    },
    {
     "name": "stdout",
     "output_type": "stream",
     "text": [
      "Correlacion:  -0.03195711020455685\n"
     ]
    }
   ],
   "source": [
    "# Escogemos la plataforma PS4, analizamos la resenha de los usuarios, excluimos juegos sin resenha\n",
    "(\n",
    "    games_relevant[(games_relevant['user_score'].notna()) &\n",
    "                  (games_relevant['platform'] == 'PS4') &\n",
    "                  (games_relevant['user_score'] <= 10)]\n",
    "    .plot(kind='scatter', x='user_score', y='total_sales')\n",
    ")\n",
    "plt.xlabel('Puntaje de los usuarios')\n",
    "plt.ylabel('Ventas totales (mill. USD)')\n",
    "plt.title('Ventas totales (PS4) vs Puntaje de los usuarios')\n",
    "plt.show()\n",
    "\n",
    "print('Correlacion: ', \n",
    "games_relevant[(games_relevant['user_score'].notna()) &\n",
    "                  (games_relevant['platform'] == 'PS4') &\n",
    "                  (games_relevant['user_score'] <= 10)][['user_score', 'total_sales']].\n",
    "      corr().iloc[0,1]\n",
    ")"
   ]
  },
  {
   "cell_type": "markdown",
   "metadata": {},
   "source": [
    "Es interesante observar que la resenha de los usuarios no tiene correlacion con las ventas de los juegos de la PS4 (a pesar de ser negativa, es bastante pequenha y la consideramos como 0), ya que son finalmente los usuarios quienes se recomiendan juegos entre si dentro de sus comunidades y quienes compran los juegos. De igual forma que con el puntaje de la critica, observaremos si existe variarion entre juegos con ventas atipicas y los demas juegos."
   ]
  },
  {
   "cell_type": "code",
   "execution_count": 34,
   "metadata": {
    "scrolled": true
   },
   "outputs": [
    {
     "data": {
      "image/png": "[encoded data removed]",
      "text/plain": [
       "<Figure size 432x288 with 1 Axes>"
      ]
     },
     "metadata": {
      "needs_background": "light"
     },
     "output_type": "display_data"
    },
    {
     "name": "stdout",
     "output_type": "stream",
     "text": [
      "Correlacion de juegos altamente exitosos:  -0.1663552250241903\n"
     ]
    }
   ],
   "source": [
    "# Analizamos el puntaje de los usuarios de los juegos con mayor cantidad de ventas, excluimos juegos sin resenha\n",
    "(\n",
    "    games_relevant[(games_relevant['user_score'].notna()) &\n",
    "                  (games_relevant['platform'] == 'PS4') &\n",
    "                  (games_relevant['user_score'] <= 10) &\n",
    "                  (games_relevant['total_sales'] >= outlier_threshold)]\n",
    "    .plot(kind='scatter', x='user_score', y='total_sales')\n",
    ")\n",
    "plt.xlabel('Puntaje de los usuarios')\n",
    "plt.ylabel('Ventas totales (mill. USD)')\n",
    "plt.title('Ventas totales (PS4) vs Puntaje de los usuarios - Juegos exitosos')\n",
    "plt.show()\n",
    "\n",
    "print('Correlacion de juegos altamente exitosos: ', \n",
    "games_relevant[(games_relevant['user_score'].notna()) &\n",
    "                  (games_relevant['platform'] == 'PS4') &\n",
    "                  (games_relevant['user_score'] <= 10) &\n",
    "                  (games_relevant['total_sales'] >= outlier_threshold)][['user_score', 'total_sales']].\n",
    "      corr().iloc[0,1]\n",
    ")"
   ]
  },
  {
   "cell_type": "code",
   "execution_count": 35,
   "metadata": {},
   "outputs": [
    {
     "data": {
      "image/png": "[encoded data removed]",
      "text/plain": [
       "<Figure size 432x288 with 1 Axes>"
      ]
     },
     "metadata": {
      "needs_background": "light"
     },
     "output_type": "display_data"
    },
    {
     "name": "stdout",
     "output_type": "stream",
     "text": [
      "Correlacion de juegos promedio:  -0.0048711797625116075\n"
     ]
    }
   ],
   "source": [
    "# Analizamos el puntaje de los usuarios de los demas juegos, excluimos juegos sin resenha\n",
    "(\n",
    "    games_relevant[(games_relevant['user_score'].notna()) &\n",
    "                  (games_relevant['platform'] == 'PS4') &\n",
    "                  (games_relevant['user_score'] <= 10) &\n",
    "                  (games_relevant['total_sales'] < outlier_threshold)]\n",
    "    .plot(kind='scatter', x='user_score', y='total_sales')\n",
    ")\n",
    "plt.xlabel('Puntaje de los usuarios')\n",
    "plt.ylabel('Ventas totales (mill. USD)')\n",
    "plt.title('Ventas totales (PS4) vs Puntaje de los usuarios - Juegos promedio')\n",
    "plt.show()\n",
    "\n",
    "print('Correlacion de juegos promedio: ', \n",
    "games_relevant[(games_relevant['user_score'].notna()) &\n",
    "                  (games_relevant['platform'] == 'PS4') &\n",
    "                  (games_relevant['user_score'] <= 10) &\n",
    "                  (games_relevant['total_sales'] < outlier_threshold)][['user_score', 'total_sales']].\n",
    "      corr().iloc[0,1]\n",
    ")"
   ]
  },
  {
   "cell_type": "markdown",
   "metadata": {},
   "source": [
    "Ahora podemos ver que la resenha de los usuarios no solo no se correlaciona con las ventas de los juegos promedio, sino que se correlaciona ligeramente de forma negativa (R = -0.17) con las ventas de los juegos altamente exitosos (ventas superiores a 2.61 millones de dolares).\n",
    "\n",
    "Es curioso observar dentro de los juegos con mayor cantida de ventas este comportamiento con respecto a las resenhas de los usuarios. Mas dada la debil correlacion exitenste es solo eso, una curiosidad de los datos.\n",
    "\n",
    "Finalmente, luego de analizar minuciosamente tanto las resenhas de la critica como la de los usuarios para los juegos de la PS4, podemos decir que:\n",
    " - no existe una correlacion entre las ventas y la resenha de los usuarios\n",
    " - existe una correlacion moderada entre las ventas y la resenha de la critica\n",
    " \n",
    "Recordemos que en este analisis hemos excluido (por obvias razones) a los juegos que carecen de una resenha. Estos juegos suelen tener un nivel bajo de ventas. "
   ]
  },
  {
   "cell_type": "markdown",
   "metadata": {},
   "source": [
    "### Comparacion de ventas del mismo juego entre plataformas"
   ]
  },
  {
   "cell_type": "code",
   "execution_count": 36,
   "metadata": {},
   "outputs": [
    {
     "data": {
      "text/plain": [
       "[\" Frozen: Olaf's Quest\",\n",
       " '2014 FIFA World Cup Brazil',\n",
       " '3rd Super Robot Wars Z Jigoku Hen',\n",
       " '3rd Super Robot Wars Z: Tengoku-Hen',\n",
       " '7 Days to Die',\n",
       " 'Accel World: Kasoku no Chouten',\n",
       " \"Adventure Time: Explore the Dungeon Because I Don't Know!\",\n",
       " 'Adventure Time: Finn & Jake Investigations',\n",
       " 'Adventure Time: The Secret of the Nameless ',\n",
       " 'Adventure Time: The Secret of the Nameless Kingdom',\n",
       " 'Aegis of Earth: Protonovus Assault',\n",
       " \"Agatha Christie's The ABC Murders\",\n",
       " \"Akiba's Trip: Undead & Undressed\",\n",
       " 'Alien: Isolation',\n",
       " 'Aliens: Colonial Marines',\n",
       " 'Angry Birds Star Wars',\n",
       " 'Ar Nosurge: Ode to an Unborn Star',\n",
       " \"Army of Two: The Devil's Cartel\",\n",
       " 'Arslan: The Warriors of Legend',\n",
       " \"Assassin's Creed Chronicles\",\n",
       " \"Assassin's Creed IV: Black Flag\",\n",
       " \"Assassin's Creed Syndicate\",\n",
       " \"Assassin's Creed The Ezio Collection\",\n",
       " \"Assassin's Creed: Rogue\",\n",
       " \"Assassin's Creed: Unity\",\n",
       " 'Assetto Corsa',\n",
       " 'Atari Flashback Classics: Volume 1',\n",
       " 'Atari Flashback Classics: Volume 2',\n",
       " 'Atelier Escha & Logy: Alchemists of the Dusk Sky',\n",
       " 'Atelier Firis: The Alchemist of the Mysterious Journey',\n",
       " 'Atelier Sophie: The Alchemist of the Mysterious Book',\n",
       " 'Attack on Titan (KOEI)',\n",
       " 'Back to the Future: The Game',\n",
       " 'Bakumatsu Rock: Ultra Soul',\n",
       " 'Barbie and Her Sisters Puppy Rescue',\n",
       " 'Batman: A Telltale Game Series',\n",
       " 'Batman: Arkham Knight',\n",
       " 'Batman: Arkham Origins',\n",
       " 'Batman: Arkham Origins Blackgate',\n",
       " 'Batman: Return to Arkham',\n",
       " 'Battleborn',\n",
       " 'Battlefield 1',\n",
       " 'Battlefield 4',\n",
       " 'Battlefield: Hardline',\n",
       " 'Ben 10 Omniverse 2',\n",
       " 'Berserk and the Band of the Hawk',\n",
       " 'BioShock Infinite',\n",
       " 'BioShock The Collection',\n",
       " 'Blade Arcus from Shining EX',\n",
       " 'Bladestorm: Nightmare',\n",
       " 'BlazBlue Central Fiction',\n",
       " 'BlazBlue: Chrono Phantasma',\n",
       " 'BlazBlue: Chrono Phantasma Extend',\n",
       " 'Borderlands: The Handsome Collection',\n",
       " 'Borderlands: The Pre-Sequel',\n",
       " \"Broken Sword 5: The Serpent's Curse\",\n",
       " 'Brothers: A Tale of Two Sons',\n",
       " \"Cabela's Big Game Hunter: Pro Hunts\",\n",
       " 'Call of Duty: Advanced Warfare',\n",
       " 'Call of Duty: Black Ops 3',\n",
       " 'Call of Duty: Ghosts',\n",
       " 'Call of Duty: Infinite Warfare',\n",
       " 'Call of Duty: Modern Warfare Trilogy',\n",
       " 'Carmageddon: Max Damage',\n",
       " 'Castlevania: Lords of Shadow 2',\n",
       " 'Chaos;Child',\n",
       " 'Child of Light',\n",
       " 'Conception II: Children of the Seven Stars',\n",
       " 'Crysis 3',\n",
       " 'Dark Souls II',\n",
       " 'Dark Souls III',\n",
       " 'Darksiders II',\n",
       " 'Darksiders: Warmastered Edition',\n",
       " 'Dead Island Definitive Collection',\n",
       " 'Dead Island: Riptide',\n",
       " 'Dead Rising',\n",
       " 'Dead Rising 2',\n",
       " 'Dead Space 3',\n",
       " 'Dead or Alive 5',\n",
       " 'Deadpool',\n",
       " 'Deception IV: Blood Ties',\n",
       " 'Defiance',\n",
       " 'Dengeki Bunko Fighting Climax',\n",
       " 'Destiny',\n",
       " 'Destiny: The Collection',\n",
       " 'Destiny: The Taken King',\n",
       " 'Deus Ex: Mankind Divided',\n",
       " 'DiRT Rally',\n",
       " 'Diablo III',\n",
       " 'Diabolik Lovers: More Blood',\n",
       " 'Digimon All-Star Rumble',\n",
       " 'Digimon Story: Cyber Sleuth',\n",
       " 'Dishonored',\n",
       " 'Dishonored 2',\n",
       " 'Disney Infinity',\n",
       " 'Disney Infinity 2.0: Marvel Super Heroes',\n",
       " 'Disney Infinity 3.0',\n",
       " 'Disney Planes Fire & Rescue',\n",
       " \"Disney's Planes\",\n",
       " 'Divinity: Original Sin',\n",
       " 'DmC: Devil May Cry',\n",
       " 'Don Bradman Cricket 14',\n",
       " 'Doom (2016)',\n",
       " 'Dragon Age: Inquisition',\n",
       " 'Dragon Ball Z: Battle of Z',\n",
       " 'Dragon Ball: XenoVerse',\n",
       " 'Dragon Ball: Xenoverse 2',\n",
       " 'Dragon Quest Builders: Revive Alefgard',\n",
       " \"Dragon Quest Heroes II: Twin Kings and the Prophecy's End\",\n",
       " \"Dragon Quest Heroes: The World's Tree Woe and the Blight Below\",\n",
       " 'Dragon Quest X',\n",
       " \"Dragon's Crown\",\n",
       " \"Dragon's Dogma Online\",\n",
       " 'DuckTales: Remastered',\n",
       " 'Duke Nukem 3D: 20th Anniversary World Tour',\n",
       " 'Dungeon Travelers 2: The Royal Library & The Monster Seal',\n",
       " 'Dying Light',\n",
       " 'Dynasty Warriors 8',\n",
       " 'Dynasty Warriors 8: Empires',\n",
       " 'Dynasty Warriors 8: Xtreme Legends',\n",
       " 'Dynasty Warriors: Eiketsuden',\n",
       " 'Dynasty Warriors: Gundam Reborn',\n",
       " 'EA Sports UFC',\n",
       " 'EA Sports UFC 2',\n",
       " 'Earth Defense Force 2025',\n",
       " 'Enemy Front',\n",
       " 'Escape Dead Island',\n",
       " 'Evolve',\n",
       " 'Exist Archive: The Other Side of the Sky',\n",
       " 'Exstetra',\n",
       " 'F1 2013',\n",
       " 'F1 2014',\n",
       " 'F1 2015',\n",
       " 'F1 2016 (Codemasters)',\n",
       " 'FIFA 14',\n",
       " 'FIFA 15',\n",
       " 'FIFA 16',\n",
       " 'FIFA 17',\n",
       " 'Fallout 4',\n",
       " 'Fantasia: Music Evolved',\n",
       " 'Far Cry 4',\n",
       " 'Far Cry: Primal',\n",
       " 'Farming Simulator 17',\n",
       " 'Farming Simulator 2013',\n",
       " 'Farming Simulator 2015',\n",
       " 'Fast & Furious: Showdown',\n",
       " 'Fate/Extella: The Umbral Star',\n",
       " 'Final Fantasy Type-0',\n",
       " 'Final Fantasy X / X-2 HD Remaster',\n",
       " 'Final Fantasy XIV: A Realm Reborn',\n",
       " 'Final Fantasy XIV: Heavensward',\n",
       " 'Football Manager 2014',\n",
       " 'Forza Horizon 2',\n",
       " 'Fuse (Insomniac)',\n",
       " 'GRID 2',\n",
       " 'GRID Autosport',\n",
       " 'Game of Thrones (Telltale)',\n",
       " 'Ghostbusters (2016)',\n",
       " 'God Eater 2',\n",
       " 'God Eater 2: Rage Burst',\n",
       " 'God Eater Resurrection',\n",
       " 'Gotouchi Tetsudou: Gotouchi Chara to Nihon Zenkoku no Tabi',\n",
       " 'Grand Ages: Medieval',\n",
       " 'Grand Kingdom',\n",
       " 'Grand Theft Auto V',\n",
       " 'Guilty Gear Xrd -Revelator-',\n",
       " 'Guilty Gear Xrd: Sign',\n",
       " 'Guitar Hero Live',\n",
       " 'Gundam Breaker',\n",
       " 'Gundam Breaker 2',\n",
       " 'Gundam Breaker 3',\n",
       " 'Handball 16',\n",
       " 'Harukanaru Toki no Naka de 6',\n",
       " 'Hatsune Miku: Project Diva F 2nd',\n",
       " 'Hatsune Miku: Project Diva X',\n",
       " 'Higurashi no Naku Koro ni Iki',\n",
       " 'Hitman (2016)',\n",
       " 'Hitman: HD Trilogy',\n",
       " 'Homefront: The Revolution',\n",
       " 'How to Train Your Dragon 2',\n",
       " 'Hyrule Warriors',\n",
       " 'Infinite Stratos 2: Ignition Hearts',\n",
       " 'Injustice: Gods Among Us',\n",
       " 'J Stars Victory Vs.',\n",
       " 'Jikkyou Powerful Pro Baseball 2016',\n",
       " 'Jikkyou Powerful Pro Yakyuu 2013',\n",
       " 'Jikkyou Powerful Pro Yakyuu 2014',\n",
       " \"JoJo's Bizarre Adventure: Eyes of Heaven\",\n",
       " 'Just Cause 3',\n",
       " 'Just Dance 2014',\n",
       " 'Just Dance 2015',\n",
       " 'Just Dance 2016',\n",
       " 'Just Dance 2017',\n",
       " 'Just Dance: Disney Party 2',\n",
       " 'Kamen Rider: Battride War Genesis',\n",
       " 'Kamen Rider: Battride War II',\n",
       " 'Killer is Dead',\n",
       " 'Kung Fu Panda: Showdown of Legendary Legends',\n",
       " 'LEGO City Undercover',\n",
       " 'LEGO Dimensions',\n",
       " 'LEGO Jurassic World',\n",
       " \"LEGO Legends of Chima: Laval's Journey\",\n",
       " 'LEGO Marvel Super Heroes',\n",
       " \"LEGO Marvel's Avengers\",\n",
       " 'LEGO Ninjago: Shadow of Ronin',\n",
       " 'LEGO The Hobbit',\n",
       " 'Lara Croft and the Temple of Osiris',\n",
       " 'Legend of Kay',\n",
       " 'Legend of Kay Anniversary',\n",
       " 'Lego Batman 3: Beyond Gotham',\n",
       " 'Lego Star Wars: The Force Awakens',\n",
       " 'Life is Strange',\n",
       " 'Lightning Returns: Final Fantasy XIII',\n",
       " 'LittleBigPlanet 3',\n",
       " 'Lords of the Fallen',\n",
       " 'Lost Dimension',\n",
       " 'Lost Planet 3',\n",
       " 'MLB 13: The Show',\n",
       " 'MLB 14: The Show',\n",
       " 'MLB 15: The Show',\n",
       " 'MLB 16: The Show',\n",
       " 'MX vs. ATV Supercross',\n",
       " 'MX vs. ATV Supercross Encore',\n",
       " 'MXGP 2',\n",
       " 'Mad Max (2015)',\n",
       " 'Madden NFL 15',\n",
       " 'Madden NFL 16',\n",
       " 'Madden NFL 17',\n",
       " 'Madden NFL 25',\n",
       " 'Mafia III',\n",
       " 'Major League Baseball 2K13',\n",
       " 'Mario & Sonic at the Rio 2016 Olympic Games',\n",
       " 'Mario vs. Donkey Kong: Tipping Stars',\n",
       " 'Mark McMorris Infinite Air',\n",
       " 'Mega Man Legacy Collection',\n",
       " 'Metal Gear Rising: Revengeance',\n",
       " 'Metal Gear Solid V: Ground Zeroes',\n",
       " 'Metal Gear Solid V: The Definitive Experience',\n",
       " 'Metal Gear Solid V: The Phantom Pain',\n",
       " 'Metro: Last Light',\n",
       " 'Middle-Earth: Shadow of Mordor',\n",
       " 'Mighty No. 9',\n",
       " 'Minecraft',\n",
       " 'Minecraft: Story Mode',\n",
       " \"Mirror's Edge Catalyst\",\n",
       " 'Monster High 13 Wishes',\n",
       " 'Monster High: New Ghoul in School',\n",
       " 'Mortal Kombat X',\n",
       " 'Moshi Monsters: Katsuma Unleashed',\n",
       " 'MotoGP 14 ',\n",
       " 'MotoGP 15',\n",
       " 'Murdered: Soul Suspect',\n",
       " \"NASCAR '14\",\n",
       " 'NASCAR Heat Evolution',\n",
       " 'NBA 2K14',\n",
       " 'NBA 2K15',\n",
       " 'NBA 2K16',\n",
       " 'NBA 2K17',\n",
       " 'NBA Live 14',\n",
       " 'NBA Live 15',\n",
       " 'NBA Live 16',\n",
       " 'NCAA Football 14',\n",
       " 'NHL 14',\n",
       " 'NHL 15',\n",
       " 'NHL 16',\n",
       " 'NHL 17',\n",
       " 'NHL Legacy',\n",
       " 'Naruto Shippuden: Ultimate Ninja Storm 3',\n",
       " 'Naruto Shippuden: Ultimate Ninja Storm 4',\n",
       " 'Naruto Shippuden: Ultimate Ninja Storm Revolution',\n",
       " 'Natsuiro High School: Seishun Hakusho',\n",
       " 'Natural Doctrine',\n",
       " 'Need for Speed (2015)',\n",
       " 'Need for Speed Rivals',\n",
       " 'Nitroplus Blasterz: Heroines Infinite Duel',\n",
       " 'Nobunaga no Yabou: Souzou',\n",
       " \"Nobunaga's Ambition: Sphere of Influence\",\n",
       " \"Nobunaga's Ambition: Sphere of Influence - Sengoku Risshiden\",\n",
       " 'Odin Sphere: Leifthrasir',\n",
       " 'One Piece: Burning Blood',\n",
       " 'One Piece: Pirate Warriors 2',\n",
       " 'One Piece: Pirate Warriors 3',\n",
       " 'One Piece: Unlimited World Red',\n",
       " 'Overwatch',\n",
       " 'PAC-MAN and the Ghostly Adventures',\n",
       " 'Pac-Man and the Ghostly Adventures 2',\n",
       " 'Painkiller: Hell & Damnation',\n",
       " 'Payday 2',\n",
       " 'Penguins of Madagascar',\n",
       " 'Persona 4: Arena Ultimax',\n",
       " 'Persona 5',\n",
       " 'Plants vs. Zombies: Garden Warfare',\n",
       " 'Plants vs. Zombies: Garden Warfare 2',\n",
       " 'Prison Architect',\n",
       " 'Pro Baseball Spirits 2015',\n",
       " 'Pro Cycling Manager 2016',\n",
       " 'Pro Evolution Soccer 2014',\n",
       " 'Pro Evolution Soccer 2015',\n",
       " 'Pro Evolution Soccer 2016',\n",
       " 'Pro Evolution Soccer 2017',\n",
       " 'Pro Yaky? Spirits 2013',\n",
       " 'Pro Yaky? Spirits 2014',\n",
       " 'Project CARS',\n",
       " 'Project Setsuna',\n",
       " 'Prototype: Biohazard Bundle',\n",
       " 'Psycho-Pass: Mandatory Happiness',\n",
       " 'Putty Squad',\n",
       " 'Puyo Puyo Tetris',\n",
       " 'Quantum Break',\n",
       " 'R.B.I. Baseball 2016',\n",
       " 'Rabbids Invasion: The Interactive TV Show',\n",
       " 'Rayman Legends',\n",
       " 'Remember Me',\n",
       " 'Resident Evil 4 HD',\n",
       " 'Resident Evil 5 HD',\n",
       " 'Resident Evil 6',\n",
       " 'Resident Evil Zero',\n",
       " 'Resident Evil: Revelations',\n",
       " 'Resident Evil: Revelations 2',\n",
       " 'Ride',\n",
       " 'Ride 2',\n",
       " 'Ride to Hell',\n",
       " 'Rise of the Tomb Raider',\n",
       " 'Risen 3: Titan Lords',\n",
       " 'Rock Band 4',\n",
       " 'Rocket League',\n",
       " 'Rocksmith 2014',\n",
       " 'Rocksmith 2014 Edition Remastered',\n",
       " 'Rodea the Sky Soldier',\n",
       " 'Romance of the Three Kingdoms 13',\n",
       " 'Root Letter',\n",
       " 'Rory McIlroy PGA Tour',\n",
       " 'Rugby 15',\n",
       " 'Rugby Challenge 3',\n",
       " 'Rugby League Live 3',\n",
       " 'Rugby World Cup 2015',\n",
       " 'SD Gundam G Generation Genesis',\n",
       " 'Sacred 3',\n",
       " \"Saint Seiya: Soldiers' Soul\",\n",
       " 'Saints Row IV',\n",
       " 'Saints Row: Gat out of Hell',\n",
       " 'Sakura-Sou no Pet na Kanojo',\n",
       " 'Samurai Warriors 4',\n",
       " 'Samurai Warriors 4-II',\n",
       " 'Samurai Warriors 4: Empires',\n",
       " 'Samurai Warriors Chronicles 3',\n",
       " 'Samurai Warriors: Sanada Maru',\n",
       " 'Scribblenauts Unmasked: A DC Comics Adventure',\n",
       " 'Sengoku Basara 4: Sumeragi',\n",
       " 'Sengoku Basara: Sanada Yukimura-Den',\n",
       " 'Senran Kagura: Estival Versus',\n",
       " 'Sherlock Holmes: Crimes & Punishments',\n",
       " \"Sherlock Holmes: The Devil's Daughter\",\n",
       " 'Shin Hayarigami',\n",
       " 'Shin Hayarigami 2',\n",
       " 'Shovel Knight',\n",
       " 'Singstar: Ultimate Party',\n",
       " 'Skylanders Imaginators',\n",
       " 'Skylanders SWAP Force',\n",
       " 'Skylanders: SuperChargers',\n",
       " 'Skylanders: Trap Team',\n",
       " 'Sleeping Dogs',\n",
       " 'Sly Cooper: Thieves in Time',\n",
       " 'Sniper Elite 3',\n",
       " 'Sniper: Ghost Warrior 2',\n",
       " 'Soccer Tsuku: Pro Soccer Club o Tsukurou!',\n",
       " 'Song of the Deep',\n",
       " 'Sonic Lost World',\n",
       " 'South Park: The Stick of Truth',\n",
       " \"SpongeBob SquarePants: Plankton's Robotic Revenge\",\n",
       " 'SpongeBob: HeroPants',\n",
       " 'Star Ocean 5: Integrity and Faithlessness',\n",
       " 'Star Trek: The Game',\n",
       " 'Star Wars Battlefront (2015)',\n",
       " 'Steins;Gate 0',\n",
       " 'Steins;Gate: Senkei Kousoku no Phonogram',\n",
       " 'Street Fighter V',\n",
       " 'Summon Night 6: Lost Borders',\n",
       " 'Super Hero Generation',\n",
       " 'Super Heroine Chronicle',\n",
       " 'Super Robot Taisen OG Saga: Masou Kishin III - Pride of Justice',\n",
       " 'Super Robot Wars OG: The Moon Dwellers',\n",
       " 'Super Smash Bros. for Wii U and 3DS',\n",
       " 'Sword Art Online: Hollow Fragment',\n",
       " 'Sword Art Online: Hollow Realization',\n",
       " 'Sword Art Online: Lost Song',\n",
       " 'Sébastien Loeb Rally Evo',\n",
       " 'Tales of Berseria',\n",
       " 'Tales of Zestiria',\n",
       " 'Teenage Mutant Ninja Turtles: Danger of the Ooze',\n",
       " 'Teenage Mutant Ninja Turtles: Mutants in Manhattan',\n",
       " 'Terraria',\n",
       " 'The Amazing Spider-Man 2 (2014)',\n",
       " 'The Book of Unwritten Tales 2',\n",
       " 'The Bureau: XCOM Declassified',\n",
       " 'The Crew',\n",
       " 'The Crew: Wild Run',\n",
       " 'The Croods: Prehistoric Party!',\n",
       " 'The Elder Scrolls Online',\n",
       " 'The Elder Scrolls V: Skyrim',\n",
       " 'The Evil Within',\n",
       " 'The Golf Club',\n",
       " 'The LEGO Movie Videogame',\n",
       " 'The Last of Us',\n",
       " 'The Legend of Heroes: Trails in the Sky Third Chapter',\n",
       " 'The Legend of Heroes: Trails of Cold Steel',\n",
       " 'The Legend of Heroes: Trails of Cold Steel II',\n",
       " \"The Peanuts Movie: Snoopy's Grand Adventure\",\n",
       " 'The Smurfs 2',\n",
       " 'The Technomancer',\n",
       " 'The Voice',\n",
       " 'The Walking Dead: Season One',\n",
       " 'The Walking Dead: Season Two',\n",
       " 'The Walking Dead: Survival Instinct',\n",
       " 'The Witch and the Hundred Knight',\n",
       " 'The Witcher 3: Wild Hunt',\n",
       " 'The Wolf Among Us',\n",
       " 'Thief (2014)',\n",
       " 'Tiger Woods PGA Tour 14',\n",
       " 'Titanfall',\n",
       " 'Titanfall 2',\n",
       " 'Tokyo Twilight Ghost Hunters',\n",
       " \"Tom Clancy's Rainbow Six: Siege\",\n",
       " \"Tom Clancy's Splinter Cell: Blacklist\",\n",
       " \"Tom Clancy's The Division\",\n",
       " 'Tomb Raider (2013)',\n",
       " \"Tony Hawk's Pro Skater 5\",\n",
       " 'Toukiden 2',\n",
       " 'Toukiden Kiwami',\n",
       " 'Toukiden: The Age of Demons',\n",
       " 'Tour de France 2014',\n",
       " 'Toy Soldiers: War Chest',\n",
       " 'TrackMania Turbo',\n",
       " 'Transformer: Rise of the Dark Spark',\n",
       " 'Transformers: Devastation',\n",
       " 'Trials Fusion',\n",
       " 'Tropico 5',\n",
       " 'Turbo: Super Stunt Squad',\n",
       " 'UEFA Euro 2016',\n",
       " 'Utawarerumono: Futari no Hakuoro',\n",
       " 'Utawarerumono: Itsuwari no Kamen',\n",
       " 'Valentino Rossi: The Game',\n",
       " 'WRC 5: FIA World Rally Championship',\n",
       " 'WWE 2K14',\n",
       " 'WWE 2K15',\n",
       " 'WWE 2K16',\n",
       " 'WWE 2K17',\n",
       " 'Warriors Orochi 3',\n",
       " 'Wasteland 2',\n",
       " 'Watch Dogs',\n",
       " 'Watch Dogs 2',\n",
       " 'Winning Post 7 2013',\n",
       " 'Winning Post 8 ',\n",
       " 'Winning Post 8 2015',\n",
       " 'Winning Post 8 2016',\n",
       " 'Wolfenstein: The New Order',\n",
       " 'Wolfenstein: The Old Blood',\n",
       " 'World of Final Fantasy',\n",
       " 'Worms: WMD',\n",
       " 'XBLAZE Code: Embryo',\n",
       " 'XCOM 2',\n",
       " 'Xblaze: Lost Memories',\n",
       " 'Yaiba: Ninja Gaiden Z',\n",
       " 'Yakuza Kiwami',\n",
       " 'Yakuza Zero: The Place of Oath',\n",
       " 'Yakuza: Ishin',\n",
       " 'Yoru no Nai Kuni',\n",
       " 'Young Justice: Legacy',\n",
       " 'Zero Escape: Zero Time Dilemma',\n",
       " 'ZombiU',\n",
       " 'Zombie Army Trilogy',\n",
       " 'Zoo Tycoon (2013)',\n",
       " 'Zumba Fitness: World Party']"
      ]
     },
     "execution_count": 36,
     "metadata": {},
     "output_type": "execute_result"
    }
   ],
   "source": [
    "# Encontramos los juegos multiplataforma\n",
    "xplatform_games = games_relevant.groupby(by='name')['platform'].count().to_frame().query('platform > 1').index.tolist()\n",
    "xplatform_games"
   ]
  },
  {
   "cell_type": "code",
   "execution_count": 37,
   "metadata": {},
   "outputs": [
    {
     "data": {
      "text/html": [
       "<div>\n",
       "<style scoped>\n",
       "    .dataframe tbody tr th:only-of-type {\n",
       "        vertical-align: middle;\n",
       "    }\n",
       "\n",
       "    .dataframe tbody tr th {\n",
       "        vertical-align: top;\n",
       "    }\n",
       "\n",
       "    .dataframe thead th {\n",
       "        text-align: right;\n",
       "    }\n",
       "</style>\n",
       "<table border=\"1\" class=\"dataframe\">\n",
       "  <thead>\n",
       "    <tr style=\"text-align: right;\">\n",
       "      <th></th>\n",
       "      <th>std</th>\n",
       "      <th>mean</th>\n",
       "    </tr>\n",
       "  </thead>\n",
       "  <tbody>\n",
       "    <tr>\n",
       "      <th>Frozen: Olaf's Quest</th>\n",
       "      <td>0.056569</td>\n",
       "      <td>0.550</td>\n",
       "    </tr>\n",
       "    <tr>\n",
       "      <th>2014 FIFA World Cup Brazil</th>\n",
       "      <td>0.127279</td>\n",
       "      <td>0.520</td>\n",
       "    </tr>\n",
       "    <tr>\n",
       "      <th>3rd Super Robot Wars Z Jigoku Hen</th>\n",
       "      <td>0.028284</td>\n",
       "      <td>0.210</td>\n",
       "    </tr>\n",
       "    <tr>\n",
       "      <th>3rd Super Robot Wars Z: Tengoku-Hen</th>\n",
       "      <td>0.028284</td>\n",
       "      <td>0.170</td>\n",
       "    </tr>\n",
       "    <tr>\n",
       "      <th>7 Days to Die</th>\n",
       "      <td>0.063640</td>\n",
       "      <td>0.095</td>\n",
       "    </tr>\n",
       "    <tr>\n",
       "      <th>...</th>\n",
       "      <td>...</td>\n",
       "      <td>...</td>\n",
       "    </tr>\n",
       "    <tr>\n",
       "      <th>Zero Escape: Zero Time Dilemma</th>\n",
       "      <td>0.014142</td>\n",
       "      <td>0.070</td>\n",
       "    </tr>\n",
       "    <tr>\n",
       "      <th>ZombiU</th>\n",
       "      <td>0.035355</td>\n",
       "      <td>0.035</td>\n",
       "    </tr>\n",
       "    <tr>\n",
       "      <th>Zombie Army Trilogy</th>\n",
       "      <td>0.063640</td>\n",
       "      <td>0.155</td>\n",
       "    </tr>\n",
       "    <tr>\n",
       "      <th>Zoo Tycoon (2013)</th>\n",
       "      <td>0.190919</td>\n",
       "      <td>0.225</td>\n",
       "    </tr>\n",
       "    <tr>\n",
       "      <th>Zumba Fitness: World Party</th>\n",
       "      <td>0.007071</td>\n",
       "      <td>0.235</td>\n",
       "    </tr>\n",
       "  </tbody>\n",
       "</table>\n",
       "<p>473 rows × 2 columns</p>\n",
       "</div>"
      ],
      "text/plain": [
       "                                          std   mean\n",
       " Frozen: Olaf's Quest                0.056569  0.550\n",
       "2014 FIFA World Cup Brazil           0.127279  0.520\n",
       "3rd Super Robot Wars Z Jigoku Hen    0.028284  0.210\n",
       "3rd Super Robot Wars Z: Tengoku-Hen  0.028284  0.170\n",
       "7 Days to Die                        0.063640  0.095\n",
       "...                                       ...    ...\n",
       "Zero Escape: Zero Time Dilemma       0.014142  0.070\n",
       "ZombiU                               0.035355  0.035\n",
       "Zombie Army Trilogy                  0.063640  0.155\n",
       "Zoo Tycoon (2013)                    0.190919  0.225\n",
       "Zumba Fitness: World Party           0.007071  0.235\n",
       "\n",
       "[473 rows x 2 columns]"
      ]
     },
     "execution_count": 37,
     "metadata": {},
     "output_type": "execute_result"
    }
   ],
   "source": [
    "# Analizamos la variacion que existe en las ventas del mismo juego entre distintas plataformas\n",
    "pd.pivot_table(games_relevant[games_relevant['name'].isin(xplatform_games)],\n",
    "               index='name', columns='platform', aggfunc='sum', values='total_sales').agg(['std', 'mean'], axis=1)"
   ]
  },
  {
   "cell_type": "markdown",
   "metadata": {},
   "source": [
    "Observamos que las desviaciones entre las ventas del mismo juego en distintas plataformas varian de juego en juego, lo que era de esperarse. Sin embargo, este valor por si solo no nos dice mucho, ya que no es lo mismo una desviacion de 1 en una distribucion con media de 10 que la misma desviacion de 1 en una distribucion con media de 100. Es por ello que es preferible analizar que porcentaje de la media representa la desviacion."
   ]
  },
  {
   "cell_type": "code",
   "execution_count": 38,
   "metadata": {},
   "outputs": [
    {
     "data": {
      "text/html": [
       "<div>\n",
       "<style scoped>\n",
       "    .dataframe tbody tr th:only-of-type {\n",
       "        vertical-align: middle;\n",
       "    }\n",
       "\n",
       "    .dataframe tbody tr th {\n",
       "        vertical-align: top;\n",
       "    }\n",
       "\n",
       "    .dataframe thead th {\n",
       "        text-align: right;\n",
       "    }\n",
       "</style>\n",
       "<table border=\"1\" class=\"dataframe\">\n",
       "  <thead>\n",
       "    <tr style=\"text-align: right;\">\n",
       "      <th></th>\n",
       "      <th>std</th>\n",
       "      <th>mean</th>\n",
       "      <th>std_over_mean</th>\n",
       "    </tr>\n",
       "  </thead>\n",
       "  <tbody>\n",
       "    <tr>\n",
       "      <th>count</th>\n",
       "      <td>473.000000</td>\n",
       "      <td>473.000000</td>\n",
       "      <td>473.000000</td>\n",
       "    </tr>\n",
       "    <tr>\n",
       "      <th>mean</th>\n",
       "      <td>0.304232</td>\n",
       "      <td>0.458241</td>\n",
       "      <td>0.566976</td>\n",
       "    </tr>\n",
       "    <tr>\n",
       "      <th>std</th>\n",
       "      <td>0.690401</td>\n",
       "      <td>0.911656</td>\n",
       "      <td>0.316011</td>\n",
       "    </tr>\n",
       "    <tr>\n",
       "      <th>min</th>\n",
       "      <td>0.000000</td>\n",
       "      <td>0.010000</td>\n",
       "      <td>0.000000</td>\n",
       "    </tr>\n",
       "    <tr>\n",
       "      <th>25%</th>\n",
       "      <td>0.021213</td>\n",
       "      <td>0.055000</td>\n",
       "      <td>0.321102</td>\n",
       "    </tr>\n",
       "    <tr>\n",
       "      <th>50%</th>\n",
       "      <td>0.077782</td>\n",
       "      <td>0.163333</td>\n",
       "      <td>0.578517</td>\n",
       "    </tr>\n",
       "    <tr>\n",
       "      <th>75%</th>\n",
       "      <td>0.280045</td>\n",
       "      <td>0.472000</td>\n",
       "      <td>0.801165</td>\n",
       "    </tr>\n",
       "    <tr>\n",
       "      <th>max</th>\n",
       "      <td>8.032906</td>\n",
       "      <td>11.316000</td>\n",
       "      <td>1.364592</td>\n",
       "    </tr>\n",
       "  </tbody>\n",
       "</table>\n",
       "</div>"
      ],
      "text/plain": [
       "              std        mean  std_over_mean\n",
       "count  473.000000  473.000000     473.000000\n",
       "mean     0.304232    0.458241       0.566976\n",
       "std      0.690401    0.911656       0.316011\n",
       "min      0.000000    0.010000       0.000000\n",
       "25%      0.021213    0.055000       0.321102\n",
       "50%      0.077782    0.163333       0.578517\n",
       "75%      0.280045    0.472000       0.801165\n",
       "max      8.032906   11.316000       1.364592"
      ]
     },
     "execution_count": 38,
     "metadata": {},
     "output_type": "execute_result"
    }
   ],
   "source": [
    "# Calculamos la nueva metrica y observamos como varia de juego en juego\n",
    "xplatform_games_total_sales_std_mean = pd.pivot_table(games_relevant[games_relevant['name'].isin(xplatform_games)],\n",
    "               index='name', columns='platform', aggfunc='sum', values='total_sales').agg(['std', 'mean'], axis=1)\n",
    "\n",
    "xplatform_games_total_sales_std_mean['std_over_mean'] = xplatform_games_total_sales_std_mean['std'] / xplatform_games_total_sales_std_mean['mean']\n",
    "\n",
    "xplatform_games_total_sales_std_mean.describe()\n"
   ]
  },
  {
   "cell_type": "markdown",
   "metadata": {},
   "source": [
    "Vemos que existen variaciones en las ventas totales del mismo juego entre plataformas. Cuantificadas por la desviacion estandar de las ventas entre plataformas, estas variaciones van desde 0 (que significa que el juego tuvo la misma cantidad de ventas en todas las plataformas donde salio), a variaciones promedio de 0.3 millones de dolares, hasta 8 millones de dolares.\n",
    "\n",
    "Estas cantidades no reflejan toda la historia, si comparamos dichas variaciones en las ventas del mismo juego contra las ventas promedio del mismo juego entre plataformas, observamos que estas variaciones alcanzan casi el 60% de las ventas promedio. Esto quiere decir que en un gran numero de juegos, las diferencias de las ventas entre plataforma y otra son bastante sustanciales. Es recomendable centrar mayores esfuerzos en las plataformas con mayores ventas."
   ]
  },
  {
   "cell_type": "code",
   "execution_count": 39,
   "metadata": {},
   "outputs": [
    {
     "data": {
      "image/png": "[encoded data removed]",
      "text/plain": [
       "<Figure size 432x288 with 1 Axes>"
      ]
     },
     "metadata": {
      "needs_background": "light"
     },
     "output_type": "display_data"
    }
   ],
   "source": [
    "# Calculamos las ventas totales de juegos multiplataforma\n",
    "games_relevant[games_relevant['name'].isin(xplatform_games)].groupby(by='platform').sum()['total_sales'].plot(kind='bar')\n",
    "plt.ylabel('Ventas totales (mill. USD)')\n",
    "plt.title('Ventas totales de juegos multiplataforma (2013 - 2016)')\n",
    "plt.show()"
   ]
  },
  {
   "cell_type": "code",
   "execution_count": 40,
   "metadata": {},
   "outputs": [
    {
     "data": {
      "image/png": "[encoded data removed]",
      "text/plain": [
       "<Figure size 432x288 with 1 Axes>"
      ]
     },
     "metadata": {
      "needs_background": "light"
     },
     "output_type": "display_data"
    }
   ],
   "source": [
    "# Calculamos las ventas promedio de juegos multiplataforma\n",
    "games_relevant[games_relevant['name'].isin(xplatform_games)].groupby(by='platform').mean()['total_sales'].plot(kind='bar')\n",
    "plt.ylabel('Ventas promedio por juego (mill. USD)')\n",
    "plt.title('Ventas promedio de juegos multiplataforma (2013 - 2016)')\n",
    "plt.show()"
   ]
  },
  {
   "cell_type": "markdown",
   "metadata": {},
   "source": [
    "Para terminar de recalcar el punto, podemos comparar por ventas totales y por ventas promedio a las plataformas que compiten de forma directa (por ejemplo PS4 vs XOne y PS3 vs X360).\n",
    "\n",
    "Tomando como ejemplo el caso PS4 vs XOne. Es probable que compartan la mayoria de juegos (salvo exlcusivos de cada plataforma) y aun asi la PS4 presenta mayores ventas totales y mayores ventas promedio por juego. En el caso PS3 vs X360 no es tan claro, ya que la PS3 presenta mayores ventas totales, pero menores ventas promedio (tal vez por mayor cantidad de titulos no tan exitosos).\n",
    "\n",
    "Finalmente, podemos decir que en la mayoria de los casos las ventas varian de plataforma a plataforma. Al momento de hacer un modelo o pronostico de ventas de un videojuego, es necesario hacer el analisis por plataforma para tener una mejor prediccion del mercado."
   ]
  },
  {
   "cell_type": "markdown",
   "metadata": {},
   "source": [
    "Tambien podemos realizar un analisis comparativo contra solo una de las otras platformas lideres y comparar los resultados con los obtenidos anterioremente. Esta comparacion la haremos en la XOne y utilizaremos solo los juegos que comparte con la PS4.\n"
   ]
  },
  {
   "cell_type": "code",
   "execution_count": 41,
   "metadata": {},
   "outputs": [
    {
     "data": {
      "text/html": [
       "<div>\n",
       "<style scoped>\n",
       "    .dataframe tbody tr th:only-of-type {\n",
       "        vertical-align: middle;\n",
       "    }\n",
       "\n",
       "    .dataframe tbody tr th {\n",
       "        vertical-align: top;\n",
       "    }\n",
       "\n",
       "    .dataframe thead tr th {\n",
       "        text-align: left;\n",
       "    }\n",
       "\n",
       "    .dataframe thead tr:last-of-type th {\n",
       "        text-align: right;\n",
       "    }\n",
       "</style>\n",
       "<table border=\"1\" class=\"dataframe\">\n",
       "  <thead>\n",
       "    <tr>\n",
       "      <th></th>\n",
       "      <th colspan=\"2\" halign=\"left\">critic_score</th>\n",
       "      <th colspan=\"2\" halign=\"left\">total_sales</th>\n",
       "      <th colspan=\"2\" halign=\"left\">user_score</th>\n",
       "    </tr>\n",
       "    <tr>\n",
       "      <th>platform</th>\n",
       "      <th>PS4</th>\n",
       "      <th>XOne</th>\n",
       "      <th>PS4</th>\n",
       "      <th>XOne</th>\n",
       "      <th>PS4</th>\n",
       "      <th>XOne</th>\n",
       "    </tr>\n",
       "    <tr>\n",
       "      <th>name</th>\n",
       "      <th></th>\n",
       "      <th></th>\n",
       "      <th></th>\n",
       "      <th></th>\n",
       "      <th></th>\n",
       "      <th></th>\n",
       "    </tr>\n",
       "  </thead>\n",
       "  <tbody>\n",
       "    <tr>\n",
       "      <th>7 Days to Die</th>\n",
       "      <td>45.0</td>\n",
       "      <td>35.0</td>\n",
       "      <td>0.14</td>\n",
       "      <td>0.05</td>\n",
       "      <td>5.9</td>\n",
       "      <td>5.2</td>\n",
       "    </tr>\n",
       "    <tr>\n",
       "      <th>Agatha Christie's The ABC Murders</th>\n",
       "      <td>67.0</td>\n",
       "      <td>66.0</td>\n",
       "      <td>0.02</td>\n",
       "      <td>0.01</td>\n",
       "      <td>6.2</td>\n",
       "      <td>7.5</td>\n",
       "    </tr>\n",
       "    <tr>\n",
       "      <th>Alien: Isolation</th>\n",
       "      <td>79.0</td>\n",
       "      <td>78.0</td>\n",
       "      <td>1.12</td>\n",
       "      <td>0.50</td>\n",
       "      <td>8.1</td>\n",
       "      <td>7.8</td>\n",
       "    </tr>\n",
       "    <tr>\n",
       "      <th>Angry Birds Star Wars</th>\n",
       "      <td>47.0</td>\n",
       "      <td>53.0</td>\n",
       "      <td>0.22</td>\n",
       "      <td>0.17</td>\n",
       "      <td>2.0</td>\n",
       "      <td>6.9</td>\n",
       "    </tr>\n",
       "    <tr>\n",
       "      <th>Assassin's Creed Syndicate</th>\n",
       "      <td>76.0</td>\n",
       "      <td>78.0</td>\n",
       "      <td>3.39</td>\n",
       "      <td>1.29</td>\n",
       "      <td>6.8</td>\n",
       "      <td>6.1</td>\n",
       "    </tr>\n",
       "    <tr>\n",
       "      <th>...</th>\n",
       "      <td>...</td>\n",
       "      <td>...</td>\n",
       "      <td>...</td>\n",
       "      <td>...</td>\n",
       "      <td>...</td>\n",
       "      <td>...</td>\n",
       "    </tr>\n",
       "    <tr>\n",
       "      <th>Wolfenstein: The New Order</th>\n",
       "      <td>79.0</td>\n",
       "      <td>79.0</td>\n",
       "      <td>1.54</td>\n",
       "      <td>0.68</td>\n",
       "      <td>8.1</td>\n",
       "      <td>7.8</td>\n",
       "    </tr>\n",
       "    <tr>\n",
       "      <th>Wolfenstein: The Old Blood</th>\n",
       "      <td>76.0</td>\n",
       "      <td>75.0</td>\n",
       "      <td>0.43</td>\n",
       "      <td>0.15</td>\n",
       "      <td>8.0</td>\n",
       "      <td>8.0</td>\n",
       "    </tr>\n",
       "    <tr>\n",
       "      <th>Worms: WMD</th>\n",
       "      <td>78.0</td>\n",
       "      <td>75.0</td>\n",
       "      <td>0.03</td>\n",
       "      <td>0.01</td>\n",
       "      <td>7.6</td>\n",
       "      <td>8.1</td>\n",
       "    </tr>\n",
       "    <tr>\n",
       "      <th>XCOM 2</th>\n",
       "      <td>88.0</td>\n",
       "      <td>87.0</td>\n",
       "      <td>0.14</td>\n",
       "      <td>0.04</td>\n",
       "      <td>8.0</td>\n",
       "      <td>8.1</td>\n",
       "    </tr>\n",
       "    <tr>\n",
       "      <th>Zombie Army Trilogy</th>\n",
       "      <td>62.0</td>\n",
       "      <td>62.0</td>\n",
       "      <td>0.20</td>\n",
       "      <td>0.11</td>\n",
       "      <td>6.8</td>\n",
       "      <td>7.2</td>\n",
       "    </tr>\n",
       "  </tbody>\n",
       "</table>\n",
       "<p>142 rows × 6 columns</p>\n",
       "</div>"
      ],
      "text/plain": [
       "                                  critic_score       total_sales        \\\n",
       "platform                                   PS4  XOne         PS4  XOne   \n",
       "name                                                                     \n",
       "7 Days to Die                             45.0  35.0        0.14  0.05   \n",
       "Agatha Christie's The ABC Murders         67.0  66.0        0.02  0.01   \n",
       "Alien: Isolation                          79.0  78.0        1.12  0.50   \n",
       "Angry Birds Star Wars                     47.0  53.0        0.22  0.17   \n",
       "Assassin's Creed Syndicate                76.0  78.0        3.39  1.29   \n",
       "...                                        ...   ...         ...   ...   \n",
       "Wolfenstein: The New Order                79.0  79.0        1.54  0.68   \n",
       "Wolfenstein: The Old Blood                76.0  75.0        0.43  0.15   \n",
       "Worms: WMD                                78.0  75.0        0.03  0.01   \n",
       "XCOM 2                                    88.0  87.0        0.14  0.04   \n",
       "Zombie Army Trilogy                       62.0  62.0        0.20  0.11   \n",
       "\n",
       "                                  user_score       \n",
       "platform                                 PS4 XOne  \n",
       "name                                               \n",
       "7 Days to Die                            5.9  5.2  \n",
       "Agatha Christie's The ABC Murders        6.2  7.5  \n",
       "Alien: Isolation                         8.1  7.8  \n",
       "Angry Birds Star Wars                    2.0  6.9  \n",
       "Assassin's Creed Syndicate               6.8  6.1  \n",
       "...                                      ...  ...  \n",
       "Wolfenstein: The New Order               8.1  7.8  \n",
       "Wolfenstein: The Old Blood               8.0  8.0  \n",
       "Worms: WMD                               7.6  8.1  \n",
       "XCOM 2                                   8.0  8.1  \n",
       "Zombie Army Trilogy                      6.8  7.2  \n",
       "\n",
       "[142 rows x 6 columns]"
      ]
     },
     "execution_count": 41,
     "metadata": {},
     "output_type": "execute_result"
    }
   ],
   "source": [
    "# Generamos una tabla con todos los juegos que estan presentes tanto en PS4 como en XOne, extraemos las ventas y los puntajes\n",
    "ps4_xone_games_sales_n_score = pd.pivot_table(games_relevant[(games_relevant['name'].isin(xplatform_games)) & \n",
    "              (games_relevant['critic_score'].notna()) & \n",
    "              (games_relevant['user_score'].notna()) &                                              \n",
    "              ((games_relevant['platform'] == 'PS4') |\n",
    "              (games_relevant['platform'] == 'XOne'))],\n",
    "               index='name', columns='platform', aggfunc='sum',\n",
    "               values=['total_sales', 'critic_score', 'user_score']).dropna()\n",
    "ps4_xone_games_sales_n_score"
   ]
  },
  {
   "cell_type": "code",
   "execution_count": 73,
   "metadata": {},
   "outputs": [
    {
     "name": "stdout",
     "output_type": "stream",
     "text": [
      "Correlacion:  0.39853288477102017\n"
     ]
    },
    {
     "data": {
      "image/png": "[encoded data removed]",
      "text/plain": [
       "<Figure size 432x288 with 1 Axes>"
      ]
     },
     "metadata": {
      "needs_background": "light"
     },
     "output_type": "display_data"
    }
   ],
   "source": [
    "# Generamos un grafico de dispersion entre ventas y puntaje de la critica y calculamos la correlacion\n",
    "(\n",
    "ps4_xone_games_sales_n_score\n",
    ".iloc[:, ps4_xone_games_sales_n_score.columns.get_level_values(1) == 'XOne']\n",
    "    .plot(kind='scatter', x='critic_score', y='total_sales')   \n",
    ")\n",
    "plt.xlabel('Puntaje de la critica')\n",
    "plt.ylabel('Ventas totales (mill. USD)')\n",
    "plt.title('Ventas (XOne) vs puntaje de la critica')\n",
    "\n",
    "print('Correlacion: ', \n",
    "ps4_xone_games_sales_n_score\n",
    ".iloc[:, ps4_xone_games_sales_n_score.columns.get_level_values(1) == 'XOne'][['critic_score', 'total_sales']].\n",
    "      corr().iloc[0,1]\n",
    ")"
   ]
  },
  {
   "cell_type": "markdown",
   "metadata": {},
   "source": [
    "Vemos nuevamente que el puntaje de la critica esta ligeramente correlacionado con las ventas, con un valor de R cercano al caso anterior (R aprox 0.4)."
   ]
  },
  {
   "cell_type": "code",
   "execution_count": 74,
   "metadata": {},
   "outputs": [
    {
     "name": "stdout",
     "output_type": "stream",
     "text": [
      "Correlacion:  -0.17987102411525857\n"
     ]
    },
    {
     "data": {
      "image/png": "[encoded data removed]",
      "text/plain": [
       "<Figure size 432x288 with 1 Axes>"
      ]
     },
     "metadata": {
      "needs_background": "light"
     },
     "output_type": "display_data"
    }
   ],
   "source": [
    "# Generamos un grafico de dispersion entre ventas y puntaje de los usuarios y calculamos la correlacion\n",
    "(\n",
    "ps4_xone_games_sales_n_score\n",
    ".iloc[:, ps4_xone_games_sales_n_score.columns.get_level_values(1) == 'XOne']\n",
    "    .plot(kind='scatter', x='user_score', y='total_sales')\n",
    ")\n",
    "plt.xlabel('Puntaje de los usuarios')\n",
    "plt.ylabel('Ventas totales (mill. USD)')\n",
    "plt.title('Ventas (XOne) vs puntaje de los usuarios')\n",
    "\n",
    "print('Correlacion: ', \n",
    "ps4_xone_games_sales_n_score\n",
    ".iloc[:, ps4_xone_games_sales_n_score.columns.get_level_values(1) == 'XOne'][['user_score', 'total_sales']].\n",
    "      corr().iloc[0,1]\n",
    ")"
   ]
  },
  {
   "cell_type": "markdown",
   "metadata": {},
   "source": [
    "Interesantemente vemos que existe una correlacion negativa entre ventas de juegos de la XOne y el puntaje de los usuarios. Esto ya habia sido observado en el caso de la PS4, mas la correlacion era bastante menor (en un factor aproximado de 5).\n",
    "\n",
    "De todas maneras, podemos apreciar que la correlacion entre el puntaje de la critica y las ventas de videojuegos es mucho mas fuerte que la del puntaje de los usuarios.\n",
    "\n",
    "Es bueno tener usuarios felices, mas parece mas importante caerle bien a la critica (en terminos de ventas)."
   ]
  },
  {
   "cell_type": "markdown",
   "metadata": {},
   "source": [
    "Es importante en esta seccion mencionar que la correlacion entre dos variables no necesariamente implica causalidad. Existen muchos otros mas factores que afectan las ventas, ademas de las criticas, que no estan siendo considerados en este analisis.\n",
    "\n",
    "Esta bien tenerlo en cuenta como referencia, pero creer que juegos con mejores resenhas de los criticos se va a traducir directamente a mayor cantidad de ventas seria una incorrecta interpretacion de los resultados."
   ]
  },
  {
   "cell_type": "markdown",
   "metadata": {},
   "source": [
    "### Ventas por genero"
   ]
  },
  {
   "cell_type": "code",
   "execution_count": 44,
   "metadata": {},
   "outputs": [
    {
     "data": {
      "image/png": "[encoded data removed]",
      "text/plain": [
       "<Figure size 1080x288 with 1 Axes>"
      ]
     },
     "metadata": {
      "needs_background": "light"
     },
     "output_type": "display_data"
    }
   ],
   "source": [
    "# Trzamos los diagramas de cajas de las ventas totales por cada genero\n",
    "games_relevant.boxplot(column='total_sales', by='genre', figsize=(15, 4), showmeans=True)\n",
    "plt.yscale('log')\n",
    "plt.yticks(ticks=[0.01, 0.03, 0.1, 0.3, 1, 3, 10, 30], labels=[0.01, 0.03, 0.1, 0.3, 1, 3, 10, 30])\n",
    "plt.ylabel('Ventas totales (mill. USD)')\n",
    "plt.title('Distribucion de ventas totales por genero (2013 - 2016)')\n",
    "plt.suptitle('')\n",
    "plt.show()"
   ]
  },
  {
   "cell_type": "markdown",
   "metadata": {},
   "source": [
    "Elaborando un diagrama de cajas de las distribuciones de las ventas totales por genero, incluyendo las medias, podemos sacar informacion importante respecto a la rentabilidad de cada uno de los generos. La escala logaritmica nos permite ampliar el rango para una mejor visualizacion.\n",
    "\n",
    "Vemos que todos los generos cuentan con distribuciones sesgadas hacia la derecha, con medias cercanas y en la mayoria de casos superiores al valor del tercer cuartil. Esto nos indica que si deseamos evaluar la rentabilidad de un genero, es mas preciso enfocarnos en las medianas.\n",
    "\n",
    "Las medianas de los generos oscilan bastante entre valores de 0.03 y 0.5 millones de dolares. Bajo esta metrica, el genero mas rentable de videojuegos es Shooter, seguido por Sports y Platform. Los generos menos rentables serian a su vez Adventure, seguido de Puzzle y Strategy.\n",
    "\n",
    "Cabe recalcar que es mas conveniente analizar las medianas que las ventas totales de cada genero, ya que se busca determinar de rentabilidad de un juego cualquiera de cada genero. Si se analizacen solo las ventas totales por genero, estas estarian sesgadas ya que hay generos que venden mucha mayor cantidad de titulos que otros, mas no significa que cada titulo individual venda mas."
   ]
  },
  {
   "cell_type": "code",
   "execution_count": 45,
   "metadata": {},
   "outputs": [
    {
     "data": {
      "image/png": "[encoded data removed]",
      "text/plain": [
       "<Figure size 432x288 with 1 Axes>"
      ]
     },
     "metadata": {
      "needs_background": "light"
     },
     "output_type": "display_data"
    }
   ],
   "source": [
    "# Ploteamos un grafico de barras de las ventas totales de cada genero para probar el punto\n",
    "games_relevant.groupby(by='genre').sum()['total_sales'].plot(kind='bar')\n",
    "plt.ylabel('Ventas totales (mill. USD)')\n",
    "plt.title('Ventas totales por genero (2013 - 2016)')\n",
    "plt.show()"
   ]
  },
  {
   "cell_type": "markdown",
   "metadata": {},
   "source": [
    "En el grafico de barras mostrado corroboramos lo mencionado anteriormente: los generos con mayores ventas totales no necesariamente tienen los juegos mas rentables.\n",
    "\n",
    "Como ejemplo podemos poner el caso de Action vs Shooter. Los juegos de accion tienen una mayor cantidad de ventas totales, sin embargo un juego shooter es mas rentable que uno de accion (analizando las medianas). Esto es debido a que probablemente hay una mayor cantidad de titulos de juegos de accion que de shooter."
   ]
  },
  {
   "cell_type": "markdown",
   "metadata": {},
   "source": [
    "### Conclusiones Paso 3"
   ]
  },
  {
   "cell_type": "markdown",
   "metadata": {},
   "source": [
    "Al analizar la cantidad ed juegos vendidos a los largo del tiempo, se pudo determinar que los datos de todos los periodos no son siginificativos, cada periodo tiene sus particularidades y solo debenmos tomar el rango de tiempo optimo que nos permita realizar el mejor analisis.\n",
    "\n",
    "Luego de separa los datos por plataforma se pudo observar que las plataformas cuentan con un ciclo de vida de 9 anhos y medio: 3 anhos y medio en llegar a su pico en ventas, 6 anhos en dejar de tener ventas.\n",
    "\n",
    "Con esta informacion, se pudo determinar que, para pronosticos y campanhas para el 2017, soo cuentan como datos relevantes aquellos partir del 2013. Esto toma en cuenta los ciclos de vida completos de las plataformas lideres: la PS4 y el XOne.\n",
    "\n",
    "Una vez filtrados solo los datos del periodo relevante, se observa que las tres plataformas mas rentables en este periodo son la PS4, el XOne y la 3DS (aunque todas ellas presenten caidas en las ventas).\n",
    "\n",
    "Si bien esas son las plataformas mas rentables, las medianas de las ventas de todas las plataformas (salvo PSVita) varian bastante poco. Esto parece indicar que las plataformas mas exitosas tienen mas titulos en su cartera y juegos que ganan bastante mas dinero que un juego comun y corriente.\n",
    "\n",
    "Analizando mas a fondo solo a las plataformas exitosas, vemos que las ventas promedio entre estos no varia demasiado. El podio entre ellas esta influenciado principalmente por us juegos mas exitosos.\n",
    "\n",
    "Buscando encontrar algun otro factor que influencia las ventas, se opta por analizar los puntajes de la critica y de los usuarios. Sin embargo, se encuentra que el puntaje de los usuarios esta muy poco correlacionado con las ventas y que el puntaje de la critica solo presenta una correlacion moderada.\n",
    "\n",
    "Finalmente, se realizo un analisis para encontrar los generos mas rentables entre las plataformas. Para ello, es mas conveniente analizar las medianas que las ventas totales por genero (debido al sesgo hacia la derecha que existe en las distribuciones de ventas de juegos). Este analisis pudo determinar que los generos mas rentables mabo esta metrica serian: Shooter, Sports y Platform."
   ]
  },
  {
   "cell_type": "markdown",
   "metadata": {},
   "source": [
    "## Paso 4: Perfiles de usuario"
   ]
  },
  {
   "cell_type": "markdown",
   "metadata": {},
   "source": [
    "Crear perfiles de usuario por region:\n",
    " - Determinar 5 plataformas principales y describir variaciones en cuotas de mercado\n",
    " - Determinar los generos principales y explicar diferencias\n",
    " - Efecto de la clasificacion ESRB"
   ]
  },
  {
   "cell_type": "markdown",
   "metadata": {},
   "source": [
    "### Cuotas de mercado"
   ]
  },
  {
   "cell_type": "code",
   "execution_count": 46,
   "metadata": {
    "scrolled": true
   },
   "outputs": [
    {
     "data": {
      "text/html": [
       "<div>\n",
       "<style scoped>\n",
       "    .dataframe tbody tr th:only-of-type {\n",
       "        vertical-align: middle;\n",
       "    }\n",
       "\n",
       "    .dataframe tbody tr th {\n",
       "        vertical-align: top;\n",
       "    }\n",
       "\n",
       "    .dataframe thead th {\n",
       "        text-align: right;\n",
       "    }\n",
       "</style>\n",
       "<table border=\"1\" class=\"dataframe\">\n",
       "  <thead>\n",
       "    <tr style=\"text-align: right;\">\n",
       "      <th></th>\n",
       "      <th>na_sales</th>\n",
       "      <th>eu_sales</th>\n",
       "      <th>jp_sales</th>\n",
       "    </tr>\n",
       "    <tr>\n",
       "      <th>platform</th>\n",
       "      <th></th>\n",
       "      <th></th>\n",
       "      <th></th>\n",
       "    </tr>\n",
       "  </thead>\n",
       "  <tbody>\n",
       "    <tr>\n",
       "      <th>3DS</th>\n",
       "      <td>38.20</td>\n",
       "      <td>30.96</td>\n",
       "      <td>67.81</td>\n",
       "    </tr>\n",
       "    <tr>\n",
       "      <th>DS</th>\n",
       "      <td>0.57</td>\n",
       "      <td>0.85</td>\n",
       "      <td>0.00</td>\n",
       "    </tr>\n",
       "    <tr>\n",
       "      <th>PC</th>\n",
       "      <td>11.11</td>\n",
       "      <td>25.36</td>\n",
       "      <td>0.00</td>\n",
       "    </tr>\n",
       "    <tr>\n",
       "      <th>PS3</th>\n",
       "      <td>63.50</td>\n",
       "      <td>67.81</td>\n",
       "      <td>23.35</td>\n",
       "    </tr>\n",
       "    <tr>\n",
       "      <th>PS4</th>\n",
       "      <td>108.74</td>\n",
       "      <td>141.09</td>\n",
       "      <td>15.96</td>\n",
       "    </tr>\n",
       "    <tr>\n",
       "      <th>PSP</th>\n",
       "      <td>0.00</td>\n",
       "      <td>0.17</td>\n",
       "      <td>3.29</td>\n",
       "    </tr>\n",
       "    <tr>\n",
       "      <th>PSV</th>\n",
       "      <td>5.04</td>\n",
       "      <td>6.10</td>\n",
       "      <td>18.59</td>\n",
       "    </tr>\n",
       "    <tr>\n",
       "      <th>Wii</th>\n",
       "      <td>6.56</td>\n",
       "      <td>5.93</td>\n",
       "      <td>0.05</td>\n",
       "    </tr>\n",
       "    <tr>\n",
       "      <th>WiiU</th>\n",
       "      <td>29.21</td>\n",
       "      <td>19.85</td>\n",
       "      <td>10.88</td>\n",
       "    </tr>\n",
       "    <tr>\n",
       "      <th>X360</th>\n",
       "      <td>81.66</td>\n",
       "      <td>42.52</td>\n",
       "      <td>0.51</td>\n",
       "    </tr>\n",
       "    <tr>\n",
       "      <th>XOne</th>\n",
       "      <td>93.12</td>\n",
       "      <td>51.59</td>\n",
       "      <td>0.34</td>\n",
       "    </tr>\n",
       "  </tbody>\n",
       "</table>\n",
       "</div>"
      ],
      "text/plain": [
       "          na_sales  eu_sales  jp_sales\n",
       "platform                              \n",
       "3DS          38.20     30.96     67.81\n",
       "DS            0.57      0.85      0.00\n",
       "PC           11.11     25.36      0.00\n",
       "PS3          63.50     67.81     23.35\n",
       "PS4         108.74    141.09     15.96\n",
       "PSP           0.00      0.17      3.29\n",
       "PSV           5.04      6.10     18.59\n",
       "Wii           6.56      5.93      0.05\n",
       "WiiU         29.21     19.85     10.88\n",
       "X360         81.66     42.52      0.51\n",
       "XOne         93.12     51.59      0.34"
      ]
     },
     "execution_count": 46,
     "metadata": {},
     "output_type": "execute_result"
    }
   ],
   "source": [
    "# Determinamos la cantidad de ventas de cada region, por plataforma\n",
    "platforms_sales_by_region = (\n",
    "    games_relevant.groupby(by='platform')\n",
    "    .sum()[['na_sales', 'eu_sales', 'jp_sales']]\n",
    ")\n",
    "platforms_sales_by_region\n"
   ]
  },
  {
   "cell_type": "code",
   "execution_count": 47,
   "metadata": {},
   "outputs": [
    {
     "data": {
      "text/html": [
       "<div>\n",
       "<style scoped>\n",
       "    .dataframe tbody tr th:only-of-type {\n",
       "        vertical-align: middle;\n",
       "    }\n",
       "\n",
       "    .dataframe tbody tr th {\n",
       "        vertical-align: top;\n",
       "    }\n",
       "\n",
       "    .dataframe thead th {\n",
       "        text-align: right;\n",
       "    }\n",
       "</style>\n",
       "<table border=\"1\" class=\"dataframe\">\n",
       "  <thead>\n",
       "    <tr style=\"text-align: right;\">\n",
       "      <th></th>\n",
       "      <th>na_sales</th>\n",
       "      <th>eu_sales</th>\n",
       "      <th>jp_sales</th>\n",
       "    </tr>\n",
       "    <tr>\n",
       "      <th>platform</th>\n",
       "      <th></th>\n",
       "      <th></th>\n",
       "      <th></th>\n",
       "    </tr>\n",
       "  </thead>\n",
       "  <tbody>\n",
       "    <tr>\n",
       "      <th>3DS</th>\n",
       "      <td>0.087272</td>\n",
       "      <td>0.078933</td>\n",
       "      <td>0.481674</td>\n",
       "    </tr>\n",
       "    <tr>\n",
       "      <th>DS</th>\n",
       "      <td>0.001302</td>\n",
       "      <td>0.002167</td>\n",
       "      <td>0.000000</td>\n",
       "    </tr>\n",
       "    <tr>\n",
       "      <th>PC</th>\n",
       "      <td>0.025382</td>\n",
       "      <td>0.064656</td>\n",
       "      <td>0.000000</td>\n",
       "    </tr>\n",
       "    <tr>\n",
       "      <th>PS3</th>\n",
       "      <td>0.145073</td>\n",
       "      <td>0.172883</td>\n",
       "      <td>0.165862</td>\n",
       "    </tr>\n",
       "    <tr>\n",
       "      <th>PS4</th>\n",
       "      <td>0.248429</td>\n",
       "      <td>0.359712</td>\n",
       "      <td>0.113368</td>\n",
       "    </tr>\n",
       "    <tr>\n",
       "      <th>PSP</th>\n",
       "      <td>0.000000</td>\n",
       "      <td>0.000433</td>\n",
       "      <td>0.023370</td>\n",
       "    </tr>\n",
       "    <tr>\n",
       "      <th>PSV</th>\n",
       "      <td>0.011514</td>\n",
       "      <td>0.015552</td>\n",
       "      <td>0.132050</td>\n",
       "    </tr>\n",
       "    <tr>\n",
       "      <th>Wii</th>\n",
       "      <td>0.014987</td>\n",
       "      <td>0.015119</td>\n",
       "      <td>0.000355</td>\n",
       "    </tr>\n",
       "    <tr>\n",
       "      <th>WiiU</th>\n",
       "      <td>0.066734</td>\n",
       "      <td>0.050608</td>\n",
       "      <td>0.077284</td>\n",
       "    </tr>\n",
       "    <tr>\n",
       "      <th>X360</th>\n",
       "      <td>0.186562</td>\n",
       "      <td>0.108406</td>\n",
       "      <td>0.003623</td>\n",
       "    </tr>\n",
       "    <tr>\n",
       "      <th>XOne</th>\n",
       "      <td>0.212744</td>\n",
       "      <td>0.131530</td>\n",
       "      <td>0.002415</td>\n",
       "    </tr>\n",
       "  </tbody>\n",
       "</table>\n",
       "</div>"
      ],
      "text/plain": [
       "          na_sales  eu_sales  jp_sales\n",
       "platform                              \n",
       "3DS       0.087272  0.078933  0.481674\n",
       "DS        0.001302  0.002167  0.000000\n",
       "PC        0.025382  0.064656  0.000000\n",
       "PS3       0.145073  0.172883  0.165862\n",
       "PS4       0.248429  0.359712  0.113368\n",
       "PSP       0.000000  0.000433  0.023370\n",
       "PSV       0.011514  0.015552  0.132050\n",
       "Wii       0.014987  0.015119  0.000355\n",
       "WiiU      0.066734  0.050608  0.077284\n",
       "X360      0.186562  0.108406  0.003623\n",
       "XOne      0.212744  0.131530  0.002415"
      ]
     },
     "execution_count": 47,
     "metadata": {},
     "output_type": "execute_result"
    }
   ],
   "source": [
    "# Calculamos la cuota de mercado de cada plataforma por region\n",
    "platforms_market_share_by_region = pd.DataFrame()\n",
    "for region in platforms_sales_by_region.columns:\n",
    "    platforms_market_share_by_region[region] = platforms_sales_by_region[region] / platforms_sales_by_region[region].sum()\n",
    "platforms_market_share_by_region"
   ]
  },
  {
   "cell_type": "code",
   "execution_count": 48,
   "metadata": {},
   "outputs": [
    {
     "data": {
      "text/plain": [
       "platform\n",
       "PS4     0.248429\n",
       "XOne    0.212744\n",
       "X360    0.186562\n",
       "PS3     0.145073\n",
       "3DS     0.087272\n",
       "Name: na_sales, dtype: float64"
      ]
     },
     "execution_count": 48,
     "metadata": {},
     "output_type": "execute_result"
    }
   ],
   "source": [
    "# Filtramos las plataformas mas populares en NA\n",
    "platforms_market_share_by_region.sort_values(by='na_sales', ascending=False).head()['na_sales']"
   ]
  },
  {
   "cell_type": "code",
   "execution_count": 49,
   "metadata": {},
   "outputs": [
    {
     "data": {
      "text/plain": [
       "platform\n",
       "PS4     0.359712\n",
       "PS3     0.172883\n",
       "XOne    0.131530\n",
       "X360    0.108406\n",
       "3DS     0.078933\n",
       "Name: eu_sales, dtype: float64"
      ]
     },
     "execution_count": 49,
     "metadata": {},
     "output_type": "execute_result"
    }
   ],
   "source": [
    "# Filtramos las plataformas mas populares en EU\n",
    "platforms_market_share_by_region.sort_values(by='eu_sales', ascending=False).head()['eu_sales']"
   ]
  },
  {
   "cell_type": "code",
   "execution_count": 50,
   "metadata": {},
   "outputs": [
    {
     "data": {
      "text/plain": [
       "platform\n",
       "3DS     0.481674\n",
       "PS3     0.165862\n",
       "PSV     0.132050\n",
       "PS4     0.113368\n",
       "WiiU    0.077284\n",
       "Name: jp_sales, dtype: float64"
      ]
     },
     "execution_count": 50,
     "metadata": {},
     "output_type": "execute_result"
    }
   ],
   "source": [
    "# Filtramos las plataformas mas populares en JP\n",
    "platforms_market_share_by_region.sort_values(by='jp_sales', ascending=False).head()['jp_sales']"
   ]
  },
  {
   "cell_type": "markdown",
   "metadata": {},
   "source": [
    "Luego de determinar las 5 plataformas mas populares (por cantidad de ventas totales) en cada region, podemos apreciar que en la region NA y EU se tratan de las mismas plataformas (en diferente orden). Esto no es tan sorprendente, ya que los mercados occidentales suelen tener ciertas similitudes en cuanto a comportamientos de compra. El mercado japones si es bastante distinto, podemos observar que alli priman las plataformas mobiles ante las consolas de mesa.\n",
    "\n",
    "Para la PS4:\n",
    " - En NA y EU, es la plataforma mas popular con 25% y 36% de cuota de mercado\n",
    " - Es decir, en NA representa 1/4 de las ventas totales y en EU mas de 1/3 de las ventas totales\n",
    " - En contraste, en JP la PS4 representa poco mas de 1/10de las ventas\n",
    " \n",
    "Para el XOne:\n",
    " - Representa aprox. 1/6 de las ventas totales en NA\n",
    " - En EU, poco mas de 1/8 de las ventas totales\n",
    " - En Japon no es popular, prima su principal competidor (que es ademas una empresa local)\n",
    " \n",
    "Para el X360:\n",
    " - En NA representa casi 1/5 de las ventas totales\n",
    " - En EU es menos popular, poco mas de 1/10 de las ventas totales\n",
    " - En JP no es popular, misma historia que la XOne\n",
    " \n",
    "Para la PS3:\n",
    " - Es la plataforma con cuota de mercado mas homogenea entre las regiones\n",
    " - 15% de cuota de mercado en NA\n",
    " - 17% de cuota de mercado en EU\n",
    " - 17% de cuota de mercado en JP (unico mercado donde la PS3 vence a la PS4)\n",
    " \n",
    "Para la 3DS:\n",
    " - Cuota de mercado homogenea en NA y EU\n",
    " - 9% de cuota de mercado en NA\n",
    " - 8% de cuota de mercado en EU\n",
    " - Plataforma mas popular en JP\n",
    " - 48% de cuota de mercado en Japon\n",
    " - Ninguna plataforma supera esta cuota de mercado en ninguna region\n",
    " \n",
    "Para la PSV:\n",
    " - No es popular en NA ni en EU\n",
    " - 13% de cuota de mercado en JP, superior a la PS4\n",
    "\n",
    "Para la WiiU:\n",
    " - No es popular en NA ni en EU\n",
    " - 8% de cuota de mercado en JP\n",
    " \n",
    "Al observar detenidamente estos resultados podemos sacar ciertas conclusiones:\n",
    " - El consumidor del mercado de NA busca principalmente las plataformas mas potentes que el mercado puede ofrecer. Adicionalmente, le gustan las consolas de mano.\n",
    " - El consumidor del mercado de EU tambien busca plataformas potentes, mas prioriza a Sony antes que a Microsoft en su eleccion, incluso si se trata de plataformas de la generacion anterior (la PS3 le gana en ventas al XOne).\n",
    " - El consumidor japones aprecia bastante el consumo a empresas locales (Nintendo y Sony) y le encantan las consolas portatiles."
   ]
  },
  {
   "cell_type": "markdown",
   "metadata": {},
   "source": [
    "### Generos"
   ]
  },
  {
   "cell_type": "code",
   "execution_count": 51,
   "metadata": {},
   "outputs": [
    {
     "data": {
      "text/html": [
       "<div>\n",
       "<style scoped>\n",
       "    .dataframe tbody tr th:only-of-type {\n",
       "        vertical-align: middle;\n",
       "    }\n",
       "\n",
       "    .dataframe tbody tr th {\n",
       "        vertical-align: top;\n",
       "    }\n",
       "\n",
       "    .dataframe thead th {\n",
       "        text-align: right;\n",
       "    }\n",
       "</style>\n",
       "<table border=\"1\" class=\"dataframe\">\n",
       "  <thead>\n",
       "    <tr style=\"text-align: right;\">\n",
       "      <th></th>\n",
       "      <th>na_sales</th>\n",
       "      <th>eu_sales</th>\n",
       "      <th>jp_sales</th>\n",
       "    </tr>\n",
       "    <tr>\n",
       "      <th>genre</th>\n",
       "      <th></th>\n",
       "      <th></th>\n",
       "      <th></th>\n",
       "    </tr>\n",
       "  </thead>\n",
       "  <tbody>\n",
       "    <tr>\n",
       "      <th>Action</th>\n",
       "      <td>126.05</td>\n",
       "      <td>118.13</td>\n",
       "      <td>40.49</td>\n",
       "    </tr>\n",
       "    <tr>\n",
       "      <th>Adventure</th>\n",
       "      <td>7.14</td>\n",
       "      <td>8.25</td>\n",
       "      <td>5.82</td>\n",
       "    </tr>\n",
       "    <tr>\n",
       "      <th>Fighting</th>\n",
       "      <td>15.55</td>\n",
       "      <td>8.55</td>\n",
       "      <td>7.65</td>\n",
       "    </tr>\n",
       "    <tr>\n",
       "      <th>Misc</th>\n",
       "      <td>27.49</td>\n",
       "      <td>20.04</td>\n",
       "      <td>9.20</td>\n",
       "    </tr>\n",
       "    <tr>\n",
       "      <th>Platform</th>\n",
       "      <td>18.14</td>\n",
       "      <td>15.58</td>\n",
       "      <td>4.79</td>\n",
       "    </tr>\n",
       "    <tr>\n",
       "      <th>Puzzle</th>\n",
       "      <td>0.83</td>\n",
       "      <td>1.00</td>\n",
       "      <td>1.18</td>\n",
       "    </tr>\n",
       "    <tr>\n",
       "      <th>Racing</th>\n",
       "      <td>12.96</td>\n",
       "      <td>20.19</td>\n",
       "      <td>2.30</td>\n",
       "    </tr>\n",
       "    <tr>\n",
       "      <th>Role-Playing</th>\n",
       "      <td>46.40</td>\n",
       "      <td>36.97</td>\n",
       "      <td>51.04</td>\n",
       "    </tr>\n",
       "    <tr>\n",
       "      <th>Shooter</th>\n",
       "      <td>109.74</td>\n",
       "      <td>87.86</td>\n",
       "      <td>6.61</td>\n",
       "    </tr>\n",
       "    <tr>\n",
       "      <th>Simulation</th>\n",
       "      <td>4.86</td>\n",
       "      <td>10.92</td>\n",
       "      <td>4.52</td>\n",
       "    </tr>\n",
       "    <tr>\n",
       "      <th>Sports</th>\n",
       "      <td>65.27</td>\n",
       "      <td>60.52</td>\n",
       "      <td>5.41</td>\n",
       "    </tr>\n",
       "    <tr>\n",
       "      <th>Strategy</th>\n",
       "      <td>3.28</td>\n",
       "      <td>4.22</td>\n",
       "      <td>1.77</td>\n",
       "    </tr>\n",
       "  </tbody>\n",
       "</table>\n",
       "</div>"
      ],
      "text/plain": [
       "              na_sales  eu_sales  jp_sales\n",
       "genre                                     \n",
       "Action          126.05    118.13     40.49\n",
       "Adventure         7.14      8.25      5.82\n",
       "Fighting         15.55      8.55      7.65\n",
       "Misc             27.49     20.04      9.20\n",
       "Platform         18.14     15.58      4.79\n",
       "Puzzle            0.83      1.00      1.18\n",
       "Racing           12.96     20.19      2.30\n",
       "Role-Playing     46.40     36.97     51.04\n",
       "Shooter         109.74     87.86      6.61\n",
       "Simulation        4.86     10.92      4.52\n",
       "Sports           65.27     60.52      5.41\n",
       "Strategy          3.28      4.22      1.77"
      ]
     },
     "execution_count": 51,
     "metadata": {},
     "output_type": "execute_result"
    }
   ],
   "source": [
    "# Determinamos las ventas totales de cada region, por genero\n",
    "(\n",
    "    games_relevant.groupby(by='genre')\n",
    "    .sum()[['na_sales', 'eu_sales', 'jp_sales']]\n",
    ")"
   ]
  },
  {
   "cell_type": "code",
   "execution_count": 52,
   "metadata": {},
   "outputs": [
    {
     "data": {
      "text/plain": [
       "genre\n",
       "Action          126.05\n",
       "Shooter         109.74\n",
       "Sports           65.27\n",
       "Role-Playing     46.40\n",
       "Misc             27.49\n",
       "Name: na_sales, dtype: float64"
      ]
     },
     "execution_count": 52,
     "metadata": {},
     "output_type": "execute_result"
    }
   ],
   "source": [
    "# Encontramos los generos mas populares en NA\n",
    "(\n",
    "    games_relevant.groupby(by='genre')\n",
    "    .sum()[['na_sales', 'eu_sales', 'jp_sales']]['na_sales']\n",
    "    .sort_values(ascending=False)\n",
    "    .head()\n",
    ")"
   ]
  },
  {
   "cell_type": "code",
   "execution_count": 53,
   "metadata": {},
   "outputs": [
    {
     "data": {
      "text/plain": [
       "genre\n",
       "Action          118.13\n",
       "Shooter          87.86\n",
       "Sports           60.52\n",
       "Role-Playing     36.97\n",
       "Racing           20.19\n",
       "Name: eu_sales, dtype: float64"
      ]
     },
     "execution_count": 53,
     "metadata": {},
     "output_type": "execute_result"
    }
   ],
   "source": [
    "# Encontramos los generos mas populares en EU\n",
    "(\n",
    "    games_relevant.groupby(by='genre')\n",
    "    .sum()[['na_sales', 'eu_sales', 'jp_sales']]['eu_sales']\n",
    "    .sort_values(ascending=False)\n",
    "    .head()\n",
    ")"
   ]
  },
  {
   "cell_type": "code",
   "execution_count": 54,
   "metadata": {},
   "outputs": [
    {
     "data": {
      "text/plain": [
       "genre\n",
       "Role-Playing    51.04\n",
       "Action          40.49\n",
       "Misc             9.20\n",
       "Fighting         7.65\n",
       "Shooter          6.61\n",
       "Name: jp_sales, dtype: float64"
      ]
     },
     "execution_count": 54,
     "metadata": {},
     "output_type": "execute_result"
    }
   ],
   "source": [
    "# Encontramos los generos mas populares en JP\n",
    "(\n",
    "    games_relevant.groupby(by='genre')\n",
    "    .sum()[['na_sales', 'eu_sales', 'jp_sales']]['jp_sales']\n",
    "    .sort_values(ascending=False)\n",
    "    .head()\n",
    ")"
   ]
  },
  {
   "cell_type": "markdown",
   "metadata": {},
   "source": [
    "Vemos nuevamente que los perfiles de los consumidores occidentales son bastante similares. Las regiones NA y EU comparten 4 de los 5 generos mas populares, solo variando en el 5to puesto (Misc en NA vs Racing en EU). Es conveniente analizar estos dos mercados a la par.\n",
    "\n",
    "El consumidor occidental (regiones NA y EU) gusta principalmente de juegos de accion y shooters (los de NA gustan mas de los shooters que los de EU en proporcion). Tambien disfruta de juegos de deportes y de rol. Por ultimo, gusta de juegos miscelaneos (aunque el consumidor europeo prefiere los de carreras un poquito mas).\n",
    "\n",
    "En contraste, el consumidor japones tambien disfruta de los juegos de accion, mas prefiere los de rol. Luego de estos generos, sus gustos no son tan fuertes, es atraido por juegos miscelaneos y shooters tambien asi como juegos de pelea."
   ]
  },
  {
   "cell_type": "markdown",
   "metadata": {},
   "source": [
    "### Clasificaciones ESRB"
   ]
  },
  {
   "cell_type": "code",
   "execution_count": 55,
   "metadata": {},
   "outputs": [
    {
     "data": {
      "text/html": [
       "<div>\n",
       "<style scoped>\n",
       "    .dataframe tbody tr th:only-of-type {\n",
       "        vertical-align: middle;\n",
       "    }\n",
       "\n",
       "    .dataframe tbody tr th {\n",
       "        vertical-align: top;\n",
       "    }\n",
       "\n",
       "    .dataframe thead th {\n",
       "        text-align: right;\n",
       "    }\n",
       "</style>\n",
       "<table border=\"1\" class=\"dataframe\">\n",
       "  <thead>\n",
       "    <tr style=\"text-align: right;\">\n",
       "      <th></th>\n",
       "      <th>na_sales</th>\n",
       "      <th>eu_sales</th>\n",
       "      <th>jp_sales</th>\n",
       "    </tr>\n",
       "    <tr>\n",
       "      <th>rating</th>\n",
       "      <th></th>\n",
       "      <th></th>\n",
       "      <th></th>\n",
       "    </tr>\n",
       "  </thead>\n",
       "  <tbody>\n",
       "    <tr>\n",
       "      <th></th>\n",
       "      <td>89.42</td>\n",
       "      <td>78.91</td>\n",
       "      <td>85.05</td>\n",
       "    </tr>\n",
       "    <tr>\n",
       "      <th>E</th>\n",
       "      <td>79.05</td>\n",
       "      <td>83.36</td>\n",
       "      <td>15.14</td>\n",
       "    </tr>\n",
       "    <tr>\n",
       "      <th>E10+</th>\n",
       "      <td>54.24</td>\n",
       "      <td>42.69</td>\n",
       "      <td>5.89</td>\n",
       "    </tr>\n",
       "    <tr>\n",
       "      <th>M</th>\n",
       "      <td>165.21</td>\n",
       "      <td>145.32</td>\n",
       "      <td>14.11</td>\n",
       "    </tr>\n",
       "    <tr>\n",
       "      <th>T</th>\n",
       "      <td>49.79</td>\n",
       "      <td>41.95</td>\n",
       "      <td>20.59</td>\n",
       "    </tr>\n",
       "  </tbody>\n",
       "</table>\n",
       "</div>"
      ],
      "text/plain": [
       "        na_sales  eu_sales  jp_sales\n",
       "rating                              \n",
       "           89.42     78.91     85.05\n",
       "E          79.05     83.36     15.14\n",
       "E10+       54.24     42.69      5.89\n",
       "M         165.21    145.32     14.11\n",
       "T          49.79     41.95     20.59"
      ]
     },
     "execution_count": 55,
     "metadata": {},
     "output_type": "execute_result"
    }
   ],
   "source": [
    "# Calculamos las ventas de cada region, por clasificacion ESRB\n",
    "games_relevant.groupby(by='rating').sum()[['na_sales', 'eu_sales', 'jp_sales']]"
   ]
  },
  {
   "cell_type": "code",
   "execution_count": 56,
   "metadata": {},
   "outputs": [
    {
     "data": {
      "text/plain": [
       "<AxesSubplot:>"
      ]
     },
     "execution_count": 56,
     "metadata": {},
     "output_type": "execute_result"
    },
    {
     "data": {
      "image/png": "[encoded data removed]",
      "text/plain": [
       "<Figure size 432x288 with 1 Axes>"
      ]
     },
     "metadata": {
      "needs_background": "light"
     },
     "output_type": "display_data"
    }
   ],
   "source": [
    "# Graficamos los datos de la tabla anterior, por region\n",
    "games_relevant.groupby(by='rating').sum()[['na_sales', 'eu_sales', 'jp_sales']].transpose().plot(kind='bar', rot=0)"
   ]
  },
  {
   "cell_type": "markdown",
   "metadata": {},
   "source": [
    "Vemos que en las regiones occidentales, la clasificacion con mayor cantidad de ventas de videojuegos es M, seguida por E. Podemos afirmar tambien que T y E10+ presentan un nivel similar de ventas.\n",
    "\n",
    "En contraste, en Japon la clasificacion con mayor cantidad de ventas es T, mientras que M y E presentan un nivel similar de ventas. La clasificacion E10+ es la que posee menores ventas.\n",
    "\n",
    "En las tres regiones, vemos que los videojuegos sin clasificacion presentan un nivel fuerte de ventas, asi como parecido entre regiones. No tomamos en cuenta estos datos mas que como 'ruido'. Es preciso notar que la falta de estos datos perjudica nuestro analisis, sobretodo en Japon que no tiene un nivel de ventas tan alto como las regiones de occidente."
   ]
  },
  {
   "cell_type": "markdown",
   "metadata": {},
   "source": [
    "### Conclusiones Paso 4"
   ]
  },
  {
   "cell_type": "markdown",
   "metadata": {},
   "source": [
    "Con la informacion recaudada y el analisis hecho, se puede armar un perfil de usuario para cada region:\n",
    "\n",
    "Consumidor de la region NA:\n",
    " - Gustan de plataformas potentes de ultima generacion\n",
    " - Juega principalmente juegos de accion y shooters\n",
    " - Sus juegos categoria M presentan violencia intensa y sangre\n",
    " - Campanha: juegos de accion y shooters violentos para PS4 y Xone\n",
    " \n",
    "Consumidor de la region EU:\n",
    " - Gusta plataformas potentes, prefiere a Sony antes que a Microsoft (asi sea de la generacion anterior)\n",
    " - Tambien gusta de los juegos de accion y shooters (no tanto como en la region NA)\n",
    " - Igualmente sus juegos presentan violencia y sangre\n",
    " - Campanha: juegos de accion y shooters para PS4, PS3 y XOne\n",
    " \n",
    "Consumidor de la region JP:\n",
    " - Solo consume plataformas japonesas, prefiere mobiles\n",
    " - Le encantan los juegos de rol y de accion\n",
    " - Sus juegos son menos violentos y con poca sangre\n",
    " - Campanha: juegos de rol y accion para 3DS y PS3"
   ]
  },
  {
   "cell_type": "markdown",
   "metadata": {},
   "source": [
    "## Prueba de hipotesis"
   ]
  },
  {
   "cell_type": "markdown",
   "metadata": {},
   "source": [
    "Probar las siguientes hipotesis:\n",
    "- Las calificaciones promedio de los usuarios para XOne y PC son iguales\n",
    "- Las calificaciones promedio de los usuarios para Accion y Deportes son diferentes"
   ]
  },
  {
   "cell_type": "markdown",
   "metadata": {},
   "source": [
    "### Calificaciones promedio para XOne y PC"
   ]
  },
  {
   "cell_type": "code",
   "execution_count": 57,
   "metadata": {},
   "outputs": [
    {
     "name": "stdout",
     "output_type": "stream",
     "text": [
      "Cantidad de calificaciones de usuario para XOne:  182\n",
      "Cantidad de calificaciones de usuario para PC:  155\n",
      "\n",
      "Calificacion promedio de usuarios para XOne:  6.52\n",
      "Calificacion promedio de usuarios para PC:  6.27\n",
      "\n",
      "Desv.std de calificaciones de usuarios para XOne:  1.38\n",
      "Desv.std de calificaciones de usuarios para PC:  1.74\n"
     ]
    }
   ],
   "source": [
    "# Obtenemos la informacion de calificaciones de los usuarios para cada plataforma, excluimos juegos sin calificacion\n",
    "user_score_xone = games_relevant[(games_relevant['platform'] == 'XOne') & (games_relevant['user_score'].notna()) & (games_relevant['user_score'] <= 10)]['user_score']\n",
    "user_score_pc = games_relevant[(games_relevant['platform'] == 'PC') & (games_relevant['user_score'].notna()) & (games_relevant['user_score'] <= 10)]['user_score']\n",
    "\n",
    "print('Cantidad de calificaciones de usuario para XOne: ' , user_score_xone.size)\n",
    "print('Cantidad de calificaciones de usuario para PC: ' , user_score_pc.size)\n",
    "print()\n",
    "print('Calificacion promedio de usuarios para XOne: ', round(user_score_xone.mean(), 2))\n",
    "print('Calificacion promedio de usuarios para PC: ', round(user_score_pc.mean(), 2))\n",
    "print()\n",
    "print('Desv.std de calificaciones de usuarios para XOne: ', round(user_score_xone.std(), 2))\n",
    "print('Desv.std de calificaciones de usuarios para PC: ', round(user_score_pc.std(), 2))"
   ]
  },
  {
   "cell_type": "markdown",
   "metadata": {},
   "source": [
    "Una observacion inicial nos muestra que las calificaciones promedio de los usuarios para ambas plataformas son bastante similares. Esto nos puede llevar a pensar que nuestra hipotesis es verdadera. Sin embargo, las desviaciones estandar son bastante altas (en relacion con las medias), de manera que a simple vista no hay forma de estar seguro. Siempre es necesario realizar una prueba de hipotesis para confirmar (o refutar) nuestra intuicion inicial."
   ]
  },
  {
   "cell_type": "code",
   "execution_count": 58,
   "metadata": {},
   "outputs": [
    {
     "data": {
      "image/png": "[encoded data removed]",
      "text/plain": [
       "<Figure size 432x288 with 1 Axes>"
      ]
     },
     "metadata": {
      "needs_background": "light"
     },
     "output_type": "display_data"
    }
   ],
   "source": [
    "# Graficamos las distribuciones\n",
    "user_score_xone.plot(kind='hist', alpha=1, bins=30)\n",
    "user_score_pc.plot(kind='hist', alpha=0.7, bins=30)\n",
    "plt.xlim(0,10)\n",
    "plt.xticks(ticks=[0, 1, 2, 3, 4, 5, 6, 7, 8, 9, 10], labels=[0, 1, 2, 3, 4, 5, 6, 7, 8, 9, 10])\n",
    "plt.xlabel('Calificaciones de los usuarios')\n",
    "plt.ylim(0, 25)\n",
    "plt.ylabel('Numero de usuarios')\n",
    "plt.legend(['XOne', 'PC'])\n",
    "plt.title('Distribucion de calificaciones de usuarios')\n",
    "plt.show()"
   ]
  },
  {
   "cell_type": "markdown",
   "metadata": {},
   "source": [
    "Como era de esperarse, las distribuciones presentan bastante sobrelape y similitudes tamanho y forma. Podria ser el caso de que las medias sean iguales, mas tratandose de muestras existe la probabilidad de que estas muestran en particular sean parecidas cuando las distribuciones originales no necesariemente lo sean."
   ]
  },
  {
   "cell_type": "markdown",
   "metadata": {},
   "source": [
    "Formulamos las hipotesis:\n",
    " - Hipotesis nula H0: las calificaciones promedio para XOne y PC son iguales\n",
    " - Hipotesis alternativa H1: las calificaciones promedio para XOne y PC son diferentes\n",
    " - Umbral alpha: probabilidad de error tipo 1 (falso negativo: rechazar H0, siendo H0 verdadera), 5%\n",
    " - Valor p: probabiliad de obtener el resultado, asumiendo que H0 es cierta"
   ]
  },
  {
   "cell_type": "code",
   "execution_count": 59,
   "metadata": {},
   "outputs": [
    {
     "name": "stdout",
     "output_type": "stream",
     "text": [
      "valor p: 0.14759594013430463\n",
      "No podemos rechazar la hipótesis nula: No podemos rechazar la hipotesis de que las calificaciones promedio de XOne y PC sean iguales\n"
     ]
    }
   ],
   "source": [
    "# Efectuamos la prueba de hipotesis para dos poblaciones\n",
    "alpha = 0.05 #alpha de 5%\n",
    "\n",
    "results = st.ttest_ind(user_score_xone.tolist(), user_score_pc.tolist(), equal_var=False) # prueba la hipótesis de que las medias de dos poblaciones son iguales\n",
    "\n",
    "print('valor p:', results.pvalue)\n",
    "\n",
    "if (results.pvalue < alpha):\n",
    "    print(\"Rechazamos la hipótesis nula: Rechazamos la hipotesis de que que las calificaciones promedio de XOne y PC sean iguales\")\n",
    "else:\n",
    "    print(\"No podemos rechazar la hipótesis nula: No podemos rechazar la hipotesis de que las calificaciones promedio de XOne y PC sean iguales\")"
   ]
  },
  {
   "cell_type": "markdown",
   "metadata": {},
   "source": [
    "Nuestra intuicion fue correcta, parece que las calificaciones promedio de los usuarios para ambas plataformas son iguales. Era un resultado esperado, las medias de las muestras eran muy parecidas y las distribuciones mostraban bastante sobrelapamiento.\n",
    "\n",
    "Observando el valor p, si las calificaciones promedio son iguales, existe un 15% de probabilidad de obtener esa ligera diferencia en las medias. En terminos de pruebas de hipotesis, es una probablidad no despreciable.\n",
    "\n",
    "No tenemos motivos suficientes para decir que las calificaciones promedio de los usuarios para XOne y PC sean diferentes (no tenemos motivos para aceptar H1)."
   ]
  },
  {
   "cell_type": "markdown",
   "metadata": {},
   "source": [
    "### Calificaciones promedio para Accion y Deportes"
   ]
  },
  {
   "cell_type": "code",
   "execution_count": 62,
   "metadata": {},
   "outputs": [
    {
     "name": "stdout",
     "output_type": "stream",
     "text": [
      "Cantidad de calificaciones de usuario para Accion:  389\n",
      "Cantidad de calificaciones de usuario para Deportes:  160\n",
      "\n",
      "Calificacion promedio de usuarios para Accion:  6.84\n",
      "Calificacion promedio de usuarios para Deportes:  5.24\n",
      "\n",
      "Desv.std de calificaciones de usuarios para Accion:  1.33\n",
      "Desv.std de calificaciones de usuarios para Deportes:  1.78\n"
     ]
    }
   ],
   "source": [
    "# Obtenemos la informacion de calificaciones de los usuarios para cada plataforma, excluimos juegos sin calificacion\n",
    "user_score_action = games_relevant[(games_relevant['genre'] == 'Action') & (games_relevant['user_score'].notna()) & (games_relevant['user_score'] <= 10)]['user_score']\n",
    "user_score_sports = games_relevant[(games_relevant['genre'] == 'Sports') & (games_relevant['user_score'].notna()) & (games_relevant['user_score'] <= 10)]['user_score']\n",
    "\n",
    "print('Cantidad de calificaciones de usuario para Accion: ' , user_score_action.size)\n",
    "print('Cantidad de calificaciones de usuario para Deportes: ' , user_score_sports.size)\n",
    "print()\n",
    "print('Calificacion promedio de usuarios para Accion: ', round(user_score_action.mean(), 2))\n",
    "print('Calificacion promedio de usuarios para Deportes: ', round(user_score_sports.mean(), 2))\n",
    "print()\n",
    "print('Desv.std de calificaciones de usuarios para Accion: ', round(user_score_action.std(), 2))\n",
    "print('Desv.std de calificaciones de usuarios para Deportes: ', round(user_score_sports.std(), 2))"
   ]
  },
  {
   "cell_type": "markdown",
   "metadata": {},
   "source": [
    "A primera vista podemos notar un par de cambios respecto a la situacion anterior:\n",
    " - la cantidad de muestras es muy distinta\n",
    " - la diferencia en medias esta alrededor de una desviacion estandar\n",
    "\n",
    "Esto puede llevarnos a pensar que las medias de las poblaciones son tambien diferentes, mas no podemos estar seguros aun. Visualizar las distribuciones dara mas luz a nuestros instintos."
   ]
  },
  {
   "cell_type": "code",
   "execution_count": 68,
   "metadata": {},
   "outputs": [
    {
     "data": {
      "image/png": "[encoded data removed]",
      "text/plain": [
       "<Figure size 432x288 with 1 Axes>"
      ]
     },
     "metadata": {
      "needs_background": "light"
     },
     "output_type": "display_data"
    }
   ],
   "source": [
    "# Graficamos las distribuciones\n",
    "user_score_action.plot(kind='hist', alpha=1, bins=50)\n",
    "user_score_sports.plot(kind='hist', alpha=0.7, bins=50)\n",
    "plt.xlim(0,10)\n",
    "plt.xticks(ticks=[0, 1, 2, 3, 4, 5, 6, 7, 8, 9, 10], labels=[0, 1, 2, 3, 4, 5, 6, 7, 8, 9, 10])\n",
    "plt.xlabel('Calificaciones de los usuarios')\n",
    "plt.ylim(0, 50)\n",
    "plt.ylabel('Numero de usuarios')\n",
    "plt.legend(['Accion', 'Deportes'])\n",
    "plt.title('Distribucion de calificaciones de usuarios')\n",
    "plt.show()"
   ]
  },
  {
   "cell_type": "markdown",
   "metadata": {},
   "source": [
    "Luego de visualizar las distribuciones podemos observar que:\n",
    " - no hay similitud en tamanho\n",
    " - no hay simulitud en forma\n",
    " \n",
    "Si bien existe cierto sobrelape, este es bastante pobre. La distribucion de deportes esta bastante distribuida (valga la redundancia) en todo el rango de puntuacion, mientras que la de accion esta claramente acumulada alrededor de entre 7 y 8, con una cola tirada hacia las puntuaciones mas bajas (lo que reduce su media).\n",
    "\n",
    "Es probable que nuestra intuicion inicial de que las medias de las poblaciones son distintas fuese correcta. De todas maneras siempre es bueno corroborarlo formalmente con una prueba de hipotesis."
   ]
  },
  {
   "cell_type": "markdown",
   "metadata": {},
   "source": [
    "Formulamos las hipotesis:\n",
    " - Hipotesis nula H0: las calificaciones promedio para Accion y Deportes son iguales\n",
    " - Hipotesis alternativa H1: las calificaciones promedio para Accion y Deportes son diferentes\n",
    " - Umbral alpha: probabilidad de error tipo 1 (falso negativo: rechazar H0, siendo H0 verdadera), 5%\n",
    " - Valor p: asumiendo que H0 es cierta, probabiliad de obtener dicho resultado"
   ]
  },
  {
   "cell_type": "code",
   "execution_count": 70,
   "metadata": {},
   "outputs": [
    {
     "name": "stdout",
     "output_type": "stream",
     "text": [
      "valor p: 1.4460039700704315e-20\n",
      "Rechazamos la hipótesis nula: Rechazamos la hipotesis de que que las calificaciones promedio de Accion y Deportes sean iguales\n"
     ]
    }
   ],
   "source": [
    "# Efectuamos la prueba de hipotesis para dos poblaciones\n",
    "alpha = 0.05 #alpha de 5%\n",
    "\n",
    "results = st.ttest_ind(user_score_action.tolist(), user_score_sports.tolist(), equal_var=False) # prueba la hipótesis de que las medias de dos poblaciones son iguales\n",
    "\n",
    "print('valor p:', results.pvalue)\n",
    "\n",
    "if (results.pvalue < alpha):\n",
    "    print(\"Rechazamos la hipótesis nula: Rechazamos la hipotesis de que que las calificaciones promedio de Accion y Deportes sean iguales\")\n",
    "else:\n",
    "    print(\"No podemos rechazar la hipótesis nula: No podemos rechazar la hipotesis de que las calificaciones promedio de Accion y Deportes sean iguales\")"
   ]
  },
  {
   "cell_type": "markdown",
   "metadata": {},
   "source": [
    "Nuestra intuicion dio en el clavo otra vez! Las calificaciones promedio de los usuarios para Accion y Deportes no son iguales, son diferentes. Era un resultado esperado, las distribuciones eran bastante distintas y las muestras suficientemente grandes para pensar que sus distribuciones se asemejan a la de la poblacion\n",
    "\n",
    "Observando el valor p, si las calificaciones promedio fuesen iguales, existe solo un 0.0000000000000000001% de probabilidad de obtener los resultados que obtuvimos de las muestras dadas. Es una probabilidad practicamente nula!\n",
    "\n",
    "Tenemos motivos mas que suficientes para decir que las calificaciones promedio de los usuarios para Accion y PC son diferentes (aceptamos H1)."
   ]
  },
  {
   "cell_type": "markdown",
   "metadata": {},
   "source": [
    "### Conclusiones Paso 5"
   ]
  },
  {
   "cell_type": "markdown",
   "metadata": {},
   "source": [
    "Luego de formular las hipotesis correspondientes (H0: las medias de las poblaciones son iguales, H1: las medias de las poblaciones son distintas, segun lo planteado en la prueba de hipotesis utilizando la t de student) y un umbral alpha adecuado (convecionalmente 5%) se puede concluir lo siguiente:\n",
    " - No tenemos motivos para pensar que las calificaciones promedio para XOne y PC sean diferentes\n",
    " - Tenemos motivos suficientes para pensar que las calificaciones promedio para Accion y Deportes son diferentes\n",
    " \n",
    "Dados los valores p obtenidos en la prueba de hipotesis, se puede repetir el experimento con un valor bastante mas bajo (1% o 0.1% inclusive) y esto no alteraria los resultados del experimento:\n",
    " - 0.15 seguiria siendo mayor que alpha y la hipotesis nula seguiria sin ser rechazada en el primer caso\n",
    " - 1e-20 seguiria siendo menor que alpha y la hipotesis nula seguiria siendo rechazada en el segundo caso\n",
    " \n",
    "Finalmente, realizar un analisis exploratorio inicial es clave para darnos una idea del posible resultado y poder dar una adecuada interpretacion. En ambos casos los resultados de la prueba de hipotesis concuerdan con nuestras intuiciiones inicuales luego de observar los estadisticos y las distribuciones."
   ]
  },
  {
   "cell_type": "markdown",
   "metadata": {},
   "source": [
    "## Conclusiones Generales"
   ]
  },
  {
   "cell_type": "markdown",
   "metadata": {},
   "source": [
    "Dados los datos obtenidos y los analisis realizados, podemos sacar las siguientes conclusiones:\n",
    "\n",
    " - El periodo mas relevante para el analisis es 2013-2016: toma en cuenta el ciclo de vida completo de la PS4 y XOne, plataformas lideres.\n",
    " - Las plataformas tienen un periodo de vida de alrededor de 9 anhos y medio, de los cuales les toma 3 anhos y medio llegar a su pico en ventas y de ahi demoran 6 anhos en desaparecer.\n",
    " - Las plataformas exitosas difieren de las no exitosas por cantidad de titulos lanzados y juegos con ventas millonarias. Este ultimo factor es determinante para la posicion que ocupa cada plataforma en el podio.\n",
    " - Los puntajes de la critica tienen una correlacion moderada con las ventas totales. Los puntajes de los usuarios se correlacionan entre poco y nada.\n",
    " - Los generos mas rentables son: Shooter, Sports y Platform. Es mas conveniente desarrollar en uno de estos generos, las probabilidades de exito son mayores.\n",
    " - Los consumidores occidentales difieren de los japoneses en preferencias de consolas, gustos en videojuegos y categoria de estos.\n",
    " - El consumidor occidental prefiere plataformas de ultima generacion y gusta juegos de accion y shooters con violencia y sangre.\n",
    " - El consumidor japones solo compra consolas localesy  prefiere plataformas mobiles asi como juegos de rol y de accion no muy violentos y con poca sangre\n",
    " - Las calificaciones promedio de usuarios para juegos de la PC y XOne son iguales (no rechazamos que sean distintas)\n",
    " - Las calificaciones promedio de usuarios para juegos de accion y deportes son diferentes.\n",
    "\n"
   ]
  },
  {
   "cell_type": "markdown",
   "metadata": {},
   "source": [
    "En resumen, para este proximo anho 2017 la empresa debe enfocarse en la PS4 y la XOne (y tratar de exprimir a la 3DS en sus utilmos anhos de vida). Se debe priorizar juegos con altas ventas de los generos Shooter, Sports y Platform.\n",
    "\n",
    "En campanhas locales se deben enfocar en juegos de Accion y Shooters violentos y sangrientos para occidente (en la PS4 y XOne), y juegos de rol y de accion poco violentos para Japon (en la 3DS).\n",
    "\n",
    "Se sugiere no dejar de lado a la PC, ya que es la unica plataforma que no muere, mas no es una prioridad."
   ]
  },
  {
   "cell_type": "markdown",
   "metadata": {},
   "source": [
    "Muchas gracias!"
   ]
  },
  {
   "cell_type": "code",
   "execution_count": null,
   "metadata": {},
   "outputs": [],
   "source": []
  }
 ],
 "metadata": {
  "kernelspec": {
   "display_name": "Python 3 (ipykernel)",
   "language": "python",
   "name": "python3"
  },
  "language_info": {
   "codemirror_mode": {
    "name": "ipython",
    "version": 3
   },
   "file_extension": ".py",
   "mimetype": "text/x-python",
   "name": "python",
   "nbconvert_exporter": "python",
   "pygments_lexer": "ipython3",
   "version": "3.9.5"
  },
  "toc": {
   "base_numbering": 1,
   "nav_menu": {},
   "number_sections": true,
   "sideBar": true,
   "skip_h1_title": true,
   "title_cell": "Table of Contents",
   "title_sidebar": "Contents",
   "toc_cell": false,
   "toc_position": {},
   "toc_section_display": true,
   "toc_window_display": false
  }
 },
 "nbformat": 4,
 "nbformat_minor": 2
}
